{
 "cells": [
  {
   "cell_type": "code",
   "execution_count": 8,
   "metadata": {},
   "outputs": [
    {
     "name": "stdout",
     "output_type": "stream",
     "text": [
      "File created：\n",
      "/project/pi_hongyu_umass_edu/zonghai/hospital_translation/DocLens/data/phi-4_without_finetune_reference.json\n",
      "/project/pi_hongyu_umass_edu/zonghai/hospital_translation/DocLens/results/phi-4_without_finetune_generation.json\n"
     ]
    }
   ],
   "source": [
    "import json\n",
    "import os\n",
    "\n",
    "# original json path\n",
    "input_file = \"/project/pi_hongyu_umass_edu/zonghai/hospital_translation/IFT_Metrics/IFT_Metrics/data/phi-4_without_finetune.json\"\n",
    "\n",
    "base_name = os.path.basename(input_file)  \n",
    "name_only, ext = os.path.splitext(base_name)  \n",
    "\n",
    "reference_dir = \"/project/pi_hongyu_umass_edu/zonghai/hospital_translation/DocLens/data/\"\n",
    "generation_dir = \"/project/pi_hongyu_umass_edu/zonghai/hospital_translation/DocLens/results/\"\n",
    "\n",
    "file1_name = os.path.join(reference_dir, f\"{name_only}_reference{ext}\")\n",
    "file2_name = os.path.join(generation_dir, f\"{name_only}_generation{ext}\")\n",
    "\n",
    "os.makedirs(reference_dir, exist_ok=True)\n",
    "os.makedirs(generation_dir, exist_ok=True)\n",
    "\n",
    "with open(input_file, \"r\", encoding=\"utf-8\") as f:\n",
    "    data = json.load(f)\n",
    "\n",
    "file1_data = [\n",
    "    {\n",
    "        \"example_id\": idx, \n",
    "        \"input\": item.get(\"original_english\", \"\"),\n",
    "        \"reference\": item.get(\"original_spanish\", \"\")  \n",
    "    }\n",
    "    for idx, item in enumerate(data)\n",
    "]\n",
    "\n",
    "\n",
    "file2_data = [\n",
    "    {\n",
    "        \"example_id\": idx,  \n",
    "        \"input\": item.get(\"original_english\", \"\"),\n",
    "        \"output\": item.get(\"translated_spanish\", \"\")\n",
    "    }\n",
    "    for idx, item in enumerate(data)\n",
    "]\n",
    "\n",
    "\n",
    "with open(file1_name, \"w\", encoding=\"utf-8\") as f1:\n",
    "    json.dump(file1_data, f1, indent=4, ensure_ascii=False)\n",
    "\n",
    "with open(file2_name, \"w\", encoding=\"utf-8\") as f2:\n",
    "    json.dump(file2_data, f2, indent=4, ensure_ascii=False)\n",
    "\n",
    "print(f\"File created：\\n{file1_name}\\n{file2_name}\")\n"
   ]
  },
  {
   "cell_type": "code",
   "execution_count": null,
   "metadata": {},
   "outputs": [],
   "source": []
  }
 ],
 "metadata": {
  "kernelspec": {
   "display_name": "Python 3",
   "language": "python",
   "name": "python3"
  },
  "language_info": {
   "codemirror_mode": {
    "name": "ipython",
    "version": 3
   },
   "file_extension": ".py",
   "mimetype": "text/x-python",
   "name": "python",
   "nbconvert_exporter": "python",
   "pygments_lexer": "ipython3",
   "version": "3.8.20"
  }
 },
 "nbformat": 4,
 "nbformat_minor": 2
}
