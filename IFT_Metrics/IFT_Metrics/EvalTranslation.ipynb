{
 "cells": [
  {
   "cell_type": "code",
   "execution_count": 1,
   "metadata": {},
   "outputs": [
    {
     "name": "stderr",
     "output_type": "stream",
     "text": [
      "2025-02-18 00:12:15.715965: I tensorflow/tsl/cuda/cudart_stub.cc:28] Could not find cuda drivers on your machine, GPU will not be used.\n",
      "2025-02-18 00:12:18.383544: I tensorflow/tsl/cuda/cudart_stub.cc:28] Could not find cuda drivers on your machine, GPU will not be used.\n",
      "2025-02-18 00:12:18.401405: I tensorflow/core/platform/cpu_feature_guard.cc:182] This TensorFlow binary is optimized to use available CPU instructions in performance-critical operations.\n",
      "To enable the following instructions: AVX2 AVX512F FMA, in other operations, rebuild TensorFlow with the appropriate compiler flags.\n",
      "2025-02-18 00:12:27.118108: W tensorflow/compiler/tf2tensorrt/utils/py_utils.cc:38] TF-TRT Warning: Could not find TensorRT\n",
      "/home/lianfu_umass_edu/.conda/envs/lianfu/lib/python3.8/site-packages/tqdm/auto.py:21: TqdmWarning: IProgress not found. Please update jupyter and ipywidgets. See https://ipywidgets.readthedocs.io/en/stable/user_install.html\n",
      "  from .autonotebook import tqdm as notebook_tqdm\n"
     ]
    }
   ],
   "source": [
    "import pandas as pd\n",
    "import sacrebleu\n",
    "from bleurt import score\n",
    "from bert_score import BERTScorer\n",
    "import os\n",
    "os.environ[\"CUDA_VISIBLE_DEVICES\"]=\"0\"\n",
    "from rouge_score import rouge_scorer\n",
    "\n"
   ]
  },
  {
   "cell_type": "code",
   "execution_count": 2,
   "metadata": {},
   "outputs": [],
   "source": [
    "import json\n",
    "class EvaluateMatric:\n",
    "    def __init__(self, datapath,generated,target,original):\n",
    "        self.data = pd.read_json(datapath)\n",
    "        self.generated = self.data[generated].tolist()\n",
    "        self.target = self.data[target].tolist()\n",
    "        self.source = self.data[original].tolist()\n",
    "        self.res = {}\n",
    "        self.path = datapath\n",
    "    def create_comet_files(self):\n",
    "        # Extract file base name without extension\n",
    "        # print(f\"Base file name: {base_name}\")\n",
    "        # print(f\"src file path: {src_file}\")\n",
    "        # print(f\"hyp file path: {hyp_file}\")\n",
    "        # print(f\"ref file path: {ref_file}\")\n",
    "\n",
    "        base_name = os.path.splitext(self.path)[0]\n",
    "        # Define file paths for src, hyp, and ref files\n",
    "        src_file = base_name + \"_src.txt\"\n",
    "        hyp_file = base_name + \"_hyp.txt\"\n",
    "        ref_file = base_name + \"_ref.txt\"\n",
    "\n",
    "        # Check and create files if they do not exist\n",
    "        if not os.path.exists(src_file):\n",
    "            print(f\"{src_file} does not exist, creating it.\")\n",
    "            with open(src_file, 'w',encoding='utf-8') as f:\n",
    "                for sentence in self.source:\n",
    "                    f.write(sentence + '\\n')\n",
    "            print(f\"{src_file} created.\")\n",
    "\n",
    "        if not os.path.exists(hyp_file):\n",
    "            print(f\"{hyp_file} does not exist, creating it.\")\n",
    "            with open(hyp_file, 'w',encoding='utf-8') as f:\n",
    "                for sentence in self.generated:\n",
    "                    sentence = sentence.replace('\\n', '').replace('\\r', '')\n",
    "                    f.write(sentence + '\\n')\n",
    "            print(f\"{hyp_file} created.\")\n",
    "\n",
    "        if not os.path.exists(ref_file):\n",
    "            print(f\"{ref_file} does not exist, creating it.\")\n",
    "            with open(ref_file, 'w',encoding='utf-8') as f:\n",
    "                for sentence in self.target:\n",
    "                    f.write(sentence + '\\n')\n",
    "            print(f\"{ref_file} created.\")\n",
    "\n",
    "        return src_file, hyp_file, ref_file\n",
    "    def _rouge(self):\n",
    "\n",
    "        r1 = {'p': [], 'r' : [], 'f': []}\n",
    "        r2 = {'p': [], 'r' : [], 'f': []}\n",
    "        rl = {'p': [], 'r' : [], 'f': []}\n",
    "        \n",
    "        rouge_instance = rouge_scorer.RougeScorer(['rouge1', 'rouge2', 'rougeL'], use_stemmer=True)\n",
    "\n",
    "        for i in range(len(self.data)):\n",
    "            all_rouge_scores = rouge_instance.score(self.target[i], self.generated[i])\n",
    "            r1['p'].append(all_rouge_scores['rouge1'][0])\n",
    "            r1['r'].append(all_rouge_scores['rouge1'][1])\n",
    "            r1['f'].append(all_rouge_scores['rouge1'][2])\n",
    "\n",
    "            r2['p'].append(all_rouge_scores['rouge2'][0])\n",
    "            r2['r'].append(all_rouge_scores['rouge2'][1])\n",
    "            r2['f'].append(all_rouge_scores['rouge2'][2])\n",
    "\n",
    "            rl['p'].append(all_rouge_scores['rougeL'][0])\n",
    "            rl['r'].append(all_rouge_scores['rougeL'][1])\n",
    "            rl['f'].append(all_rouge_scores['rougeL'][2])\n",
    "\n",
    "        self.res['rouge-1'] = (sum(r1['p'])/len(r1['p']), sum(r1['r'])/len(r1['r']), sum(r1['f'])/len(r1['f']))\n",
    "        self.res['rouge-2'] = (sum(r2['p'])/len(r2['p']), sum(r2['r'])/len(r2['r']), sum(r2['f'])/len(r2['f']))\n",
    "        self.res['rouge-l'] = (sum(rl['p'])/len(rl['p']), sum(rl['r'])/len(rl['r']), sum(rl['f'])/len(rl['f']))\n",
    "    def bleu(self):\n",
    "        src_file, hyp_file, ref_file = self.create_comet_files()\n",
    "        #sacrebleu reference.tokenized -i hypothesis.tokenized --detok\n",
    "        # os.system(f\"sacrebleu {hyp_file} -i {ref_file} --detok\")\n",
    "        # bleu_scores = sacrebleu.corpus_bleu(self.generated,self.target).score\n",
    "        # self.res['bleu'] = bleu_scores\n",
    "        os.system(f\"sacrebleu {ref_file} -i {hyp_file} -m bleu\")\n",
    "        # print(f\"BLEU: {bleu_scores}\")\n",
    "    def bertscore(self):\n",
    "        # bert_scorer = BERTScorer(lang=\"others\", rescale_with_baseline=True, model_type=\"microsoft/deberta-xlarge-mnli\")\n",
    "        # bert_P, bert_R, bert_F = bert_scorer.score(self.target, self.generated)\n",
    "        # self.res['bertscore_p'] = bert_P.mean().item()\n",
    "        # self.res['bertscore_r'] = bert_R.mean().item()\n",
    "        # self.res['bertscore_f'] = bert_F.mean().item()\n",
    "        # print(f\"BERTScore: P: {bert_P.mean().item()} R: {bert_R.mean().item()} F: {bert_F.mean().item()}\")\n",
    "        src_file, hyp_file, ref_file = self.create_comet_files()\n",
    "        os.system(f\"bert-score -r {ref_file} -c {hyp_file} --lang sp --rescale_with_baseline\")\n",
    "    def bleurt(self):\n",
    "        bleurt_scorer = score.BleurtScorer(r\"/project/pi_hongyu_umass_edu/zonghai/clinical-llm-alignment/durga_sandeep/Evaluation_Metrics/ClinicalBLEURT/ClinicalBLEURT\")\n",
    "        bleurt_scores = bleurt_scorer.score(references=self.target, candidates=self.generated)\n",
    "        self.res['bleurt'] = sum(bleurt_scores)/len(bleurt_scores)\n",
    "        print(f\"BLEURT: {sum(bleurt_scores)/len(bleurt_scores)}\")\n",
    "#         src_file, hyp_file, ref_file = self.create_comet_files()\n",
    "#         os.system(f\"python -m bleurt.score_files \\\n",
    "#   -candidate_file={hyp_file} \\\n",
    "#   -reference_file={ref_file} \\\n",
    "#   -bleurt_checkpoint=/project/pi_hongyu_umass_edu/zonghai/hospital_translation/BLEURT-20\")\n",
    "    def rouge(self):\n",
    "        self._rouge()\n",
    "        print(f\"ROUGE-1: {self.res['rouge-1']}\")\n",
    "        print(f\"ROUGE-2: {self.res['rouge-2']}\")\n",
    "        # print(f\"ROUGE-L: {self.res['rouge-l']}\")\n",
    "    def comet(self, model=\"wmt20-comet-da\"):\n",
    "        # Create the necessary comet files\n",
    "        src_file, hyp_file, ref_file = self.create_comet_files()\n",
    "\n",
    "        os.system(f\"comet-score -s {src_file} -t {hyp_file} -r {ref_file}\")\n",
    "    def _llm_as_a_judge(self, judge_model='gpt-4o-mini'):\n",
    "        # if 'dialogue' not in self.data.columns:\n",
    "        #     print(\"LLM as a judge is not applicable\")\n",
    "        #     return \n",
    "        \n",
    "        self.data['judge_prompt'] = self.data.apply(lambda x: llm_as_a_judge_prompt(x['original_english'],x['translated_spanish']), 1)\n",
    "\n",
    "        all_responses = []\n",
    "        all_scores = []\n",
    "        for i in range(len(self.data)):\n",
    "            \n",
    "            judge_prompt = self.data.iloc[i]['judge_prompt']\n",
    "\n",
    "            try:\n",
    "                response = get_openai_response(prompt=judge_prompt, model=judge_model)\n",
    "            except:\n",
    "                print(\"########## Issue with OpenAI API\")\n",
    "                response = \"\"\n",
    "\n",
    "            all_responses.append(response)\n",
    "            \n",
    "            score = get_final_score(response)\n",
    "            all_scores.append(score)\n",
    "\n",
    "        self.data['gpt_4o_mini_responses'] = all_responses\n",
    "        self.data['gpt_4o_mini_scores'] = all_scores\n",
    "\n",
    "        self.res['llm_as_a_judge'] = self.data['gpt_4o_mini_scores'].describe()['mean']\n",
    "        print(\"LLM-as-a-Judge: \", self.res['llm_as_a_judge'])\n",
    "    def evaluate(self,method):\n",
    "        if method == \"BLEU\":\n",
    "            self.bleu()\n",
    "        if method == \"BERTSCORE\":\n",
    "            self.bertscore()\n",
    "        if method == \"BLEURT\":\n",
    "            self.bleurt()\n",
    "        if method == \"ROUGE\":\n",
    "            self.rouge()\n",
    "        if method == \"COMET\":\n",
    "            self.comet()\n",
    "        if method == \"LLM_AS_A_JUDGE\":\n",
    "            self._llm_as_a_judge()\n",
    "    \n",
    "\n"
   ]
  },
  {
   "cell_type": "code",
   "execution_count": 32,
   "metadata": {},
   "outputs": [
    {
     "name": "stdout",
     "output_type": "stream",
     "text": [
      "{\n",
      " \"name\": \"BLEU\",\n",
      " \"score\": 29.8,\n",
      " \"signature\": \"nrefs:1|case:mixed|eff:no|tok:13a|smooth:exp|version:2.5.1\",\n",
      " \"verbose_score\": \"53.8/34.0/24.2/17.8 (BP = 1.000 ratio = 1.021 hyp_len = 3528 ref_len = 3454)\",\n",
      " \"nrefs\": \"1\",\n",
      " \"case\": \"mixed\",\n",
      " \"eff\": \"no\",\n",
      " \"tok\": \"13a\",\n",
      " \"smooth\": \"exp\",\n",
      " \"version\": \"2.5.1\"\n",
      "}\n"
     ]
    }
   ],
   "source": [
    "\n",
    "matric = EvaluateMatric(\"/project/pi_hongyu_umass_edu/zonghai/hospital_translation/IFT_Metrics/IFT_Metrics/data/DeepSeek-R1-Distill-Qwen-14B_without_finetune.json\",generated=\"translated_spanish\",target=\"original_spanish\",original=\"original_english\")\n",
    "matric.evaluate(\"BLEU\")"
   ]
  },
  {
   "cell_type": "code",
   "execution_count": 14,
   "metadata": {},
   "outputs": [
    {
     "name": "stdout",
     "output_type": "stream",
     "text": [
      "INFO:tensorflow:Reading checkpoint /project/pi_hongyu_umass_edu/zonghai/clinical-llm-alignment/durga_sandeep/Evaluation_Metrics/ClinicalBLEURT/ClinicalBLEURT.\n"
     ]
    },
    {
     "name": "stderr",
     "output_type": "stream",
     "text": [
      "INFO:tensorflow:Reading checkpoint /project/pi_hongyu_umass_edu/zonghai/clinical-llm-alignment/durga_sandeep/Evaluation_Metrics/ClinicalBLEURT/ClinicalBLEURT.\n"
     ]
    },
    {
     "name": "stdout",
     "output_type": "stream",
     "text": [
      "INFO:tensorflow:Config file found, reading.\n"
     ]
    },
    {
     "name": "stderr",
     "output_type": "stream",
     "text": [
      "INFO:tensorflow:Config file found, reading.\n"
     ]
    },
    {
     "name": "stdout",
     "output_type": "stream",
     "text": [
      "INFO:tensorflow:Will load checkpoint bert_custom\n"
     ]
    },
    {
     "name": "stderr",
     "output_type": "stream",
     "text": [
      "INFO:tensorflow:Will load checkpoint bert_custom\n"
     ]
    },
    {
     "name": "stdout",
     "output_type": "stream",
     "text": [
      "INFO:tensorflow:Loads full paths and checks that files exists.\n"
     ]
    },
    {
     "name": "stderr",
     "output_type": "stream",
     "text": [
      "INFO:tensorflow:Loads full paths and checks that files exists.\n"
     ]
    },
    {
     "name": "stdout",
     "output_type": "stream",
     "text": [
      "INFO:tensorflow:... name:bert_custom\n"
     ]
    },
    {
     "name": "stderr",
     "output_type": "stream",
     "text": [
      "INFO:tensorflow:... name:bert_custom\n"
     ]
    },
    {
     "name": "stdout",
     "output_type": "stream",
     "text": [
      "INFO:tensorflow:... bert_config_file:bert_config.json\n"
     ]
    },
    {
     "name": "stderr",
     "output_type": "stream",
     "text": [
      "INFO:tensorflow:... bert_config_file:bert_config.json\n"
     ]
    },
    {
     "name": "stdout",
     "output_type": "stream",
     "text": [
      "INFO:tensorflow:... max_seq_length:512\n"
     ]
    },
    {
     "name": "stderr",
     "output_type": "stream",
     "text": [
      "INFO:tensorflow:... max_seq_length:512\n"
     ]
    },
    {
     "name": "stdout",
     "output_type": "stream",
     "text": [
      "INFO:tensorflow:... vocab_file:vocab.txt\n"
     ]
    },
    {
     "name": "stderr",
     "output_type": "stream",
     "text": [
      "INFO:tensorflow:... vocab_file:vocab.txt\n"
     ]
    },
    {
     "name": "stdout",
     "output_type": "stream",
     "text": [
      "INFO:tensorflow:... do_lower_case:True\n"
     ]
    },
    {
     "name": "stderr",
     "output_type": "stream",
     "text": [
      "INFO:tensorflow:... do_lower_case:True\n"
     ]
    },
    {
     "name": "stdout",
     "output_type": "stream",
     "text": [
      "INFO:tensorflow:... sp_model:None\n"
     ]
    },
    {
     "name": "stderr",
     "output_type": "stream",
     "text": [
      "INFO:tensorflow:... sp_model:None\n"
     ]
    },
    {
     "name": "stdout",
     "output_type": "stream",
     "text": [
      "INFO:tensorflow:... dynamic_seq_length:False\n"
     ]
    },
    {
     "name": "stderr",
     "output_type": "stream",
     "text": [
      "INFO:tensorflow:... dynamic_seq_length:False\n"
     ]
    },
    {
     "name": "stdout",
     "output_type": "stream",
     "text": [
      "INFO:tensorflow:Creating BLEURT scorer.\n"
     ]
    },
    {
     "name": "stderr",
     "output_type": "stream",
     "text": [
      "INFO:tensorflow:Creating BLEURT scorer.\n"
     ]
    },
    {
     "name": "stdout",
     "output_type": "stream",
     "text": [
      "INFO:tensorflow:Creating WordPiece tokenizer.\n"
     ]
    },
    {
     "name": "stderr",
     "output_type": "stream",
     "text": [
      "INFO:tensorflow:Creating WordPiece tokenizer.\n"
     ]
    },
    {
     "name": "stdout",
     "output_type": "stream",
     "text": [
      "INFO:tensorflow:WordPiece tokenizer instantiated.\n"
     ]
    },
    {
     "name": "stderr",
     "output_type": "stream",
     "text": [
      "INFO:tensorflow:WordPiece tokenizer instantiated.\n"
     ]
    },
    {
     "name": "stdout",
     "output_type": "stream",
     "text": [
      "INFO:tensorflow:Creating Eager Mode predictor.\n"
     ]
    },
    {
     "name": "stderr",
     "output_type": "stream",
     "text": [
      "INFO:tensorflow:Creating Eager Mode predictor.\n"
     ]
    },
    {
     "name": "stdout",
     "output_type": "stream",
     "text": [
      "INFO:tensorflow:Loading model.\n"
     ]
    },
    {
     "name": "stderr",
     "output_type": "stream",
     "text": [
      "INFO:tensorflow:Loading model.\n"
     ]
    },
    {
     "name": "stdout",
     "output_type": "stream",
     "text": [
      "INFO:tensorflow:BLEURT initialized.\n"
     ]
    },
    {
     "name": "stderr",
     "output_type": "stream",
     "text": [
      "INFO:tensorflow:BLEURT initialized.\n"
     ]
    },
    {
     "name": "stdout",
     "output_type": "stream",
     "text": [
      "BLEURT: 0.836385410875082\n"
     ]
    }
   ],
   "source": [
    "\n",
    "matric.evaluate(\"BLEURT\")"
   ]
  },
  {
   "cell_type": "code",
   "execution_count": 19,
   "metadata": {},
   "outputs": [
    {
     "name": "stderr",
     "output_type": "stream",
     "text": [
      "2025-02-17 22:32:56.550346: I tensorflow/tsl/cuda/cudart_stub.cc:28] Could not find cuda drivers on your machine, GPU will not be used.\n",
      "2025-02-17 22:32:59.740480: I tensorflow/core/platform/cpu_feature_guard.cc:182] This TensorFlow binary is optimized to use available CPU instructions in performance-critical operations.\n",
      "To enable the following instructions: AVX2 FMA, in other operations, rebuild TensorFlow with the appropriate compiler flags.\n",
      "2025-02-17 22:33:08.479445: W tensorflow/compiler/tf2tensorrt/utils/py_utils.cc:38] TF-TRT Warning: Could not find TensorRT\n",
      "Warning: Baseline not Found for bert-base-multilingual-cased on sp at /home/lianfu_umass_edu/.conda/envs/lianfu/lib/python3.8/site-packages/bert_score/rescale_baseline/sp/bert-base-multilingual-cased.tsv\n"
     ]
    },
    {
     "name": "stdout",
     "output_type": "stream",
     "text": [
      "bert-base-multilingual-cased_L9_no-idf_version=0.3.12(hug_trans=4.46.3)-rescaled_fast-tokenizer P: 0.799567 R: 0.837346 F1: 0.817007\n"
     ]
    }
   ],
   "source": [
    "# bert_scorer = BERTScorer(lang=\"others\", rescale_with_baseline=False, model_type=\"microsoft/deberta-xlarge-mnli\")\n",
    "matric.evaluate(\"BERTSCORE\")"
   ]
  },
  {
   "cell_type": "code",
   "execution_count": 10,
   "metadata": {},
   "outputs": [
    {
     "name": "stderr",
     "output_type": "stream",
     "text": [
      "2025-02-17 18:28:05.250713: E external/local_xla/xla/stream_executor/cuda/cuda_fft.cc:485] Unable to register cuFFT factory: Attempting to register factory for plugin cuFFT when one has already been registered\n",
      "2025-02-17 18:28:05.842211: E external/local_xla/xla/stream_executor/cuda/cuda_dnn.cc:8454] Unable to register cuDNN factory: Attempting to register factory for plugin cuDNN when one has already been registered\n",
      "2025-02-17 18:28:06.022078: E external/local_xla/xla/stream_executor/cuda/cuda_blas.cc:1452] Unable to register cuBLAS factory: Attempting to register factory for plugin cuBLAS when one has already been registered\n",
      "2025-02-17 18:28:07.556765: I tensorflow/core/platform/cpu_feature_guard.cc:210] This TensorFlow binary is optimized to use available CPU instructions in performance-critical operations.\n",
      "To enable the following instructions: AVX2 FMA, in other operations, rebuild TensorFlow with the appropriate compiler flags.\n",
      "2025-02-17 18:28:13.536415: W tensorflow/compiler/tf2tensorrt/utils/py_utils.cc:38] TF-TRT Warning: Could not find TensorRT\n",
      "Seed set to 1\n",
      "Fetching 5 files: 100%|██████████| 5/5 [00:00<00:00, 31631.25it/s]\n",
      "Lightning automatically upgraded your loaded checkpoint from v1.8.3.post1 to v2.5.0.post0. To apply the upgrade to your files permanently, run `python -m pytorch_lightning.utilities.upgrade_checkpoint ../../../../../../home/lianfu_umass_edu/.cache/huggingface/hub/models--Unbabel--wmt22-comet-da/snapshots/f49d328952c3470eff6bb6f545d62bfdb6e66304/checkpoints/model.ckpt`\n",
      "Encoder model frozen.\n",
      "/home/lianfu_umass_edu/.conda/envs/lianfu/lib/python3.9/site-packages/pytorch_lightning/core/saving.py:195: Found keys that are not in the model state dict but in the checkpoint: ['encoder.model.embeddings.position_ids']\n",
      "/home/lianfu_umass_edu/.conda/envs/lianfu/lib/python3.9/site-packages/torch/utils/data/dataloader.py:624: UserWarning: This DataLoader will create 2 worker processes in total. Our suggested max number of worker in current system is 1, which is smaller than what this DataLoader is going to create. Please be aware that excessive worker creation might get DataLoader running slow or even freeze, lower the worker number to avoid potential slowness/freeze if necessary.\n",
      "  warnings.warn(\n",
      "/home/lianfu_umass_edu/.conda/envs/lianfu/lib/python3.9/site-packages/lightning_fabric/plugins/environments/slurm.py:204: The `srun` command is available on your system but is not used. HINT: If your intention is to run Lightning on SLURM, prepend your python command with `srun` like so: srun python3.9 /home/lianfu_umass_edu/.conda/envs/lianfu/bin/com ...\n",
      "GPU available: True (cuda), used: True\n",
      "TPU available: False, using: 0 TPU cores\n",
      "HPU available: False, using: 0 HPUs\n",
      "LOCAL_RANK: 0 - CUDA_VISIBLE_DEVICES: [0]\n",
      "/home/lianfu_umass_edu/.conda/envs/lianfu/lib/python3.9/site-packages/torch/utils/data/dataloader.py:624: UserWarning: This DataLoader will create 2 worker processes in total. Our suggested max number of worker in current system is 1, which is smaller than what this DataLoader is going to create. Please be aware that excessive worker creation might get DataLoader running slow or even freeze, lower the worker number to avoid potential slowness/freeze if necessary.\n",
      "  warnings.warn(\n",
      "Predicting DataLoader 0: 100%|██████████| 7/7 [00:11<00:00,  1.69s/it]\n"
     ]
    },
    {
     "name": "stdout",
     "output_type": "stream",
     "text": [
      "/project/pi_hongyu_umass_edu/zonghai/hospital_translation/IFT_Metrics/IFT_Metrics/data/DeepSeek-R1-Distill-Qwen-14B_without_finetune_hyp.txt\tSegment 0\tscore: 0.7507\n",
      "/project/pi_hongyu_umass_edu/zonghai/hospital_translation/IFT_Metrics/IFT_Metrics/data/DeepSeek-R1-Distill-Qwen-14B_without_finetune_hyp.txt\tSegment 1\tscore: 0.6891\n",
      "/project/pi_hongyu_umass_edu/zonghai/hospital_translation/IFT_Metrics/IFT_Metrics/data/DeepSeek-R1-Distill-Qwen-14B_without_finetune_hyp.txt\tSegment 2\tscore: 0.7110\n",
      "/project/pi_hongyu_umass_edu/zonghai/hospital_translation/IFT_Metrics/IFT_Metrics/data/DeepSeek-R1-Distill-Qwen-14B_without_finetune_hyp.txt\tSegment 3\tscore: 0.7942\n",
      "/project/pi_hongyu_umass_edu/zonghai/hospital_translation/IFT_Metrics/IFT_Metrics/data/DeepSeek-R1-Distill-Qwen-14B_without_finetune_hyp.txt\tSegment 4\tscore: 0.7673\n",
      "/project/pi_hongyu_umass_edu/zonghai/hospital_translation/IFT_Metrics/IFT_Metrics/data/DeepSeek-R1-Distill-Qwen-14B_without_finetune_hyp.txt\tSegment 5\tscore: 0.7934\n",
      "/project/pi_hongyu_umass_edu/zonghai/hospital_translation/IFT_Metrics/IFT_Metrics/data/DeepSeek-R1-Distill-Qwen-14B_without_finetune_hyp.txt\tSegment 6\tscore: 0.7573\n",
      "/project/pi_hongyu_umass_edu/zonghai/hospital_translation/IFT_Metrics/IFT_Metrics/data/DeepSeek-R1-Distill-Qwen-14B_without_finetune_hyp.txt\tSegment 7\tscore: 0.6126\n",
      "/project/pi_hongyu_umass_edu/zonghai/hospital_translation/IFT_Metrics/IFT_Metrics/data/DeepSeek-R1-Distill-Qwen-14B_without_finetune_hyp.txt\tSegment 8\tscore: 0.6259\n",
      "/project/pi_hongyu_umass_edu/zonghai/hospital_translation/IFT_Metrics/IFT_Metrics/data/DeepSeek-R1-Distill-Qwen-14B_without_finetune_hyp.txt\tSegment 9\tscore: 0.4434\n",
      "/project/pi_hongyu_umass_edu/zonghai/hospital_translation/IFT_Metrics/IFT_Metrics/data/DeepSeek-R1-Distill-Qwen-14B_without_finetune_hyp.txt\tSegment 10\tscore: 0.6119\n",
      "/project/pi_hongyu_umass_edu/zonghai/hospital_translation/IFT_Metrics/IFT_Metrics/data/DeepSeek-R1-Distill-Qwen-14B_without_finetune_hyp.txt\tSegment 11\tscore: 0.6142\n",
      "/project/pi_hongyu_umass_edu/zonghai/hospital_translation/IFT_Metrics/IFT_Metrics/data/DeepSeek-R1-Distill-Qwen-14B_without_finetune_hyp.txt\tSegment 12\tscore: 0.4966\n",
      "/project/pi_hongyu_umass_edu/zonghai/hospital_translation/IFT_Metrics/IFT_Metrics/data/DeepSeek-R1-Distill-Qwen-14B_without_finetune_hyp.txt\tSegment 13\tscore: 0.4580\n",
      "/project/pi_hongyu_umass_edu/zonghai/hospital_translation/IFT_Metrics/IFT_Metrics/data/DeepSeek-R1-Distill-Qwen-14B_without_finetune_hyp.txt\tSegment 14\tscore: 0.4472\n",
      "/project/pi_hongyu_umass_edu/zonghai/hospital_translation/IFT_Metrics/IFT_Metrics/data/DeepSeek-R1-Distill-Qwen-14B_without_finetune_hyp.txt\tSegment 15\tscore: 0.6074\n",
      "/project/pi_hongyu_umass_edu/zonghai/hospital_translation/IFT_Metrics/IFT_Metrics/data/DeepSeek-R1-Distill-Qwen-14B_without_finetune_hyp.txt\tSegment 16\tscore: 0.5917\n",
      "/project/pi_hongyu_umass_edu/zonghai/hospital_translation/IFT_Metrics/IFT_Metrics/data/DeepSeek-R1-Distill-Qwen-14B_without_finetune_hyp.txt\tSegment 17\tscore: 0.6428\n",
      "/project/pi_hongyu_umass_edu/zonghai/hospital_translation/IFT_Metrics/IFT_Metrics/data/DeepSeek-R1-Distill-Qwen-14B_without_finetune_hyp.txt\tSegment 18\tscore: 0.6375\n",
      "/project/pi_hongyu_umass_edu/zonghai/hospital_translation/IFT_Metrics/IFT_Metrics/data/DeepSeek-R1-Distill-Qwen-14B_without_finetune_hyp.txt\tSegment 19\tscore: 0.5947\n",
      "/project/pi_hongyu_umass_edu/zonghai/hospital_translation/IFT_Metrics/IFT_Metrics/data/DeepSeek-R1-Distill-Qwen-14B_without_finetune_hyp.txt\tSegment 20\tscore: 0.6711\n",
      "/project/pi_hongyu_umass_edu/zonghai/hospital_translation/IFT_Metrics/IFT_Metrics/data/DeepSeek-R1-Distill-Qwen-14B_without_finetune_hyp.txt\tSegment 21\tscore: 0.8482\n",
      "/project/pi_hongyu_umass_edu/zonghai/hospital_translation/IFT_Metrics/IFT_Metrics/data/DeepSeek-R1-Distill-Qwen-14B_without_finetune_hyp.txt\tSegment 22\tscore: 0.3735\n",
      "/project/pi_hongyu_umass_edu/zonghai/hospital_translation/IFT_Metrics/IFT_Metrics/data/DeepSeek-R1-Distill-Qwen-14B_without_finetune_hyp.txt\tSegment 23\tscore: 0.6139\n",
      "/project/pi_hongyu_umass_edu/zonghai/hospital_translation/IFT_Metrics/IFT_Metrics/data/DeepSeek-R1-Distill-Qwen-14B_without_finetune_hyp.txt\tSegment 24\tscore: 0.4184\n",
      "/project/pi_hongyu_umass_edu/zonghai/hospital_translation/IFT_Metrics/IFT_Metrics/data/DeepSeek-R1-Distill-Qwen-14B_without_finetune_hyp.txt\tSegment 25\tscore: 0.4340\n",
      "/project/pi_hongyu_umass_edu/zonghai/hospital_translation/IFT_Metrics/IFT_Metrics/data/DeepSeek-R1-Distill-Qwen-14B_without_finetune_hyp.txt\tSegment 26\tscore: 0.3959\n",
      "/project/pi_hongyu_umass_edu/zonghai/hospital_translation/IFT_Metrics/IFT_Metrics/data/DeepSeek-R1-Distill-Qwen-14B_without_finetune_hyp.txt\tSegment 27\tscore: 0.4084\n",
      "/project/pi_hongyu_umass_edu/zonghai/hospital_translation/IFT_Metrics/IFT_Metrics/data/DeepSeek-R1-Distill-Qwen-14B_without_finetune_hyp.txt\tSegment 28\tscore: 0.4532\n",
      "/project/pi_hongyu_umass_edu/zonghai/hospital_translation/IFT_Metrics/IFT_Metrics/data/DeepSeek-R1-Distill-Qwen-14B_without_finetune_hyp.txt\tSegment 29\tscore: 0.3564\n",
      "/project/pi_hongyu_umass_edu/zonghai/hospital_translation/IFT_Metrics/IFT_Metrics/data/DeepSeek-R1-Distill-Qwen-14B_without_finetune_hyp.txt\tSegment 30\tscore: 0.3567\n",
      "/project/pi_hongyu_umass_edu/zonghai/hospital_translation/IFT_Metrics/IFT_Metrics/data/DeepSeek-R1-Distill-Qwen-14B_without_finetune_hyp.txt\tSegment 31\tscore: 0.3627\n",
      "/project/pi_hongyu_umass_edu/zonghai/hospital_translation/IFT_Metrics/IFT_Metrics/data/DeepSeek-R1-Distill-Qwen-14B_without_finetune_hyp.txt\tSegment 32\tscore: 0.6833\n",
      "/project/pi_hongyu_umass_edu/zonghai/hospital_translation/IFT_Metrics/IFT_Metrics/data/DeepSeek-R1-Distill-Qwen-14B_without_finetune_hyp.txt\tSegment 33\tscore: 0.7546\n",
      "/project/pi_hongyu_umass_edu/zonghai/hospital_translation/IFT_Metrics/IFT_Metrics/data/DeepSeek-R1-Distill-Qwen-14B_without_finetune_hyp.txt\tSegment 34\tscore: 0.7329\n",
      "/project/pi_hongyu_umass_edu/zonghai/hospital_translation/IFT_Metrics/IFT_Metrics/data/DeepSeek-R1-Distill-Qwen-14B_without_finetune_hyp.txt\tSegment 35\tscore: 0.7064\n",
      "/project/pi_hongyu_umass_edu/zonghai/hospital_translation/IFT_Metrics/IFT_Metrics/data/DeepSeek-R1-Distill-Qwen-14B_without_finetune_hyp.txt\tSegment 36\tscore: 0.7262\n",
      "/project/pi_hongyu_umass_edu/zonghai/hospital_translation/IFT_Metrics/IFT_Metrics/data/DeepSeek-R1-Distill-Qwen-14B_without_finetune_hyp.txt\tSegment 37\tscore: 0.7811\n",
      "/project/pi_hongyu_umass_edu/zonghai/hospital_translation/IFT_Metrics/IFT_Metrics/data/DeepSeek-R1-Distill-Qwen-14B_without_finetune_hyp.txt\tSegment 38\tscore: 0.7858\n",
      "/project/pi_hongyu_umass_edu/zonghai/hospital_translation/IFT_Metrics/IFT_Metrics/data/DeepSeek-R1-Distill-Qwen-14B_without_finetune_hyp.txt\tSegment 39\tscore: 0.3413\n",
      "/project/pi_hongyu_umass_edu/zonghai/hospital_translation/IFT_Metrics/IFT_Metrics/data/DeepSeek-R1-Distill-Qwen-14B_without_finetune_hyp.txt\tSegment 40\tscore: 0.7287\n",
      "/project/pi_hongyu_umass_edu/zonghai/hospital_translation/IFT_Metrics/IFT_Metrics/data/DeepSeek-R1-Distill-Qwen-14B_without_finetune_hyp.txt\tSegment 41\tscore: 0.6213\n",
      "/project/pi_hongyu_umass_edu/zonghai/hospital_translation/IFT_Metrics/IFT_Metrics/data/DeepSeek-R1-Distill-Qwen-14B_without_finetune_hyp.txt\tSegment 42\tscore: 0.7510\n",
      "/project/pi_hongyu_umass_edu/zonghai/hospital_translation/IFT_Metrics/IFT_Metrics/data/DeepSeek-R1-Distill-Qwen-14B_without_finetune_hyp.txt\tSegment 43\tscore: 0.6107\n",
      "/project/pi_hongyu_umass_edu/zonghai/hospital_translation/IFT_Metrics/IFT_Metrics/data/DeepSeek-R1-Distill-Qwen-14B_without_finetune_hyp.txt\tSegment 44\tscore: 0.8166\n",
      "/project/pi_hongyu_umass_edu/zonghai/hospital_translation/IFT_Metrics/IFT_Metrics/data/DeepSeek-R1-Distill-Qwen-14B_without_finetune_hyp.txt\tSegment 45\tscore: 0.4600\n",
      "/project/pi_hongyu_umass_edu/zonghai/hospital_translation/IFT_Metrics/IFT_Metrics/data/DeepSeek-R1-Distill-Qwen-14B_without_finetune_hyp.txt\tSegment 46\tscore: 0.7178\n",
      "/project/pi_hongyu_umass_edu/zonghai/hospital_translation/IFT_Metrics/IFT_Metrics/data/DeepSeek-R1-Distill-Qwen-14B_without_finetune_hyp.txt\tSegment 47\tscore: 0.7814\n",
      "/project/pi_hongyu_umass_edu/zonghai/hospital_translation/IFT_Metrics/IFT_Metrics/data/DeepSeek-R1-Distill-Qwen-14B_without_finetune_hyp.txt\tSegment 48\tscore: 0.6839\n",
      "/project/pi_hongyu_umass_edu/zonghai/hospital_translation/IFT_Metrics/IFT_Metrics/data/DeepSeek-R1-Distill-Qwen-14B_without_finetune_hyp.txt\tSegment 49\tscore: 0.7634\n",
      "/project/pi_hongyu_umass_edu/zonghai/hospital_translation/IFT_Metrics/IFT_Metrics/data/DeepSeek-R1-Distill-Qwen-14B_without_finetune_hyp.txt\tSegment 50\tscore: 0.7089\n",
      "/project/pi_hongyu_umass_edu/zonghai/hospital_translation/IFT_Metrics/IFT_Metrics/data/DeepSeek-R1-Distill-Qwen-14B_without_finetune_hyp.txt\tSegment 51\tscore: 0.7882\n",
      "/project/pi_hongyu_umass_edu/zonghai/hospital_translation/IFT_Metrics/IFT_Metrics/data/DeepSeek-R1-Distill-Qwen-14B_without_finetune_hyp.txt\tSegment 52\tscore: 0.5387\n",
      "/project/pi_hongyu_umass_edu/zonghai/hospital_translation/IFT_Metrics/IFT_Metrics/data/DeepSeek-R1-Distill-Qwen-14B_without_finetune_hyp.txt\tSegment 53\tscore: 0.8008\n",
      "/project/pi_hongyu_umass_edu/zonghai/hospital_translation/IFT_Metrics/IFT_Metrics/data/DeepSeek-R1-Distill-Qwen-14B_without_finetune_hyp.txt\tSegment 54\tscore: 0.7696\n",
      "/project/pi_hongyu_umass_edu/zonghai/hospital_translation/IFT_Metrics/IFT_Metrics/data/DeepSeek-R1-Distill-Qwen-14B_without_finetune_hyp.txt\tSegment 55\tscore: 0.7923\n",
      "/project/pi_hongyu_umass_edu/zonghai/hospital_translation/IFT_Metrics/IFT_Metrics/data/DeepSeek-R1-Distill-Qwen-14B_without_finetune_hyp.txt\tSegment 56\tscore: 0.7548\n",
      "/project/pi_hongyu_umass_edu/zonghai/hospital_translation/IFT_Metrics/IFT_Metrics/data/DeepSeek-R1-Distill-Qwen-14B_without_finetune_hyp.txt\tSegment 57\tscore: 0.6501\n",
      "/project/pi_hongyu_umass_edu/zonghai/hospital_translation/IFT_Metrics/IFT_Metrics/data/DeepSeek-R1-Distill-Qwen-14B_without_finetune_hyp.txt\tSegment 58\tscore: 0.7667\n",
      "/project/pi_hongyu_umass_edu/zonghai/hospital_translation/IFT_Metrics/IFT_Metrics/data/DeepSeek-R1-Distill-Qwen-14B_without_finetune_hyp.txt\tSegment 59\tscore: 0.7520\n",
      "/project/pi_hongyu_umass_edu/zonghai/hospital_translation/IFT_Metrics/IFT_Metrics/data/DeepSeek-R1-Distill-Qwen-14B_without_finetune_hyp.txt\tSegment 60\tscore: 0.4820\n",
      "/project/pi_hongyu_umass_edu/zonghai/hospital_translation/IFT_Metrics/IFT_Metrics/data/DeepSeek-R1-Distill-Qwen-14B_without_finetune_hyp.txt\tSegment 61\tscore: 0.6370\n",
      "/project/pi_hongyu_umass_edu/zonghai/hospital_translation/IFT_Metrics/IFT_Metrics/data/DeepSeek-R1-Distill-Qwen-14B_without_finetune_hyp.txt\tSegment 62\tscore: 0.7151\n",
      "/project/pi_hongyu_umass_edu/zonghai/hospital_translation/IFT_Metrics/IFT_Metrics/data/DeepSeek-R1-Distill-Qwen-14B_without_finetune_hyp.txt\tSegment 63\tscore: 0.7903\n",
      "/project/pi_hongyu_umass_edu/zonghai/hospital_translation/IFT_Metrics/IFT_Metrics/data/DeepSeek-R1-Distill-Qwen-14B_without_finetune_hyp.txt\tSegment 64\tscore: 0.7819\n",
      "/project/pi_hongyu_umass_edu/zonghai/hospital_translation/IFT_Metrics/IFT_Metrics/data/DeepSeek-R1-Distill-Qwen-14B_without_finetune_hyp.txt\tSegment 65\tscore: 0.5544\n",
      "/project/pi_hongyu_umass_edu/zonghai/hospital_translation/IFT_Metrics/IFT_Metrics/data/DeepSeek-R1-Distill-Qwen-14B_without_finetune_hyp.txt\tSegment 66\tscore: 0.7367\n",
      "/project/pi_hongyu_umass_edu/zonghai/hospital_translation/IFT_Metrics/IFT_Metrics/data/DeepSeek-R1-Distill-Qwen-14B_without_finetune_hyp.txt\tSegment 67\tscore: 0.7853\n",
      "/project/pi_hongyu_umass_edu/zonghai/hospital_translation/IFT_Metrics/IFT_Metrics/data/DeepSeek-R1-Distill-Qwen-14B_without_finetune_hyp.txt\tSegment 68\tscore: 0.7747\n",
      "/project/pi_hongyu_umass_edu/zonghai/hospital_translation/IFT_Metrics/IFT_Metrics/data/DeepSeek-R1-Distill-Qwen-14B_without_finetune_hyp.txt\tSegment 69\tscore: 0.8178\n",
      "/project/pi_hongyu_umass_edu/zonghai/hospital_translation/IFT_Metrics/IFT_Metrics/data/DeepSeek-R1-Distill-Qwen-14B_without_finetune_hyp.txt\tSegment 70\tscore: 0.7575\n",
      "/project/pi_hongyu_umass_edu/zonghai/hospital_translation/IFT_Metrics/IFT_Metrics/data/DeepSeek-R1-Distill-Qwen-14B_without_finetune_hyp.txt\tSegment 71\tscore: 0.7890\n",
      "/project/pi_hongyu_umass_edu/zonghai/hospital_translation/IFT_Metrics/IFT_Metrics/data/DeepSeek-R1-Distill-Qwen-14B_without_finetune_hyp.txt\tSegment 72\tscore: 0.6784\n",
      "/project/pi_hongyu_umass_edu/zonghai/hospital_translation/IFT_Metrics/IFT_Metrics/data/DeepSeek-R1-Distill-Qwen-14B_without_finetune_hyp.txt\tSegment 73\tscore: 0.6066\n",
      "/project/pi_hongyu_umass_edu/zonghai/hospital_translation/IFT_Metrics/IFT_Metrics/data/DeepSeek-R1-Distill-Qwen-14B_without_finetune_hyp.txt\tSegment 74\tscore: 0.7670\n",
      "/project/pi_hongyu_umass_edu/zonghai/hospital_translation/IFT_Metrics/IFT_Metrics/data/DeepSeek-R1-Distill-Qwen-14B_without_finetune_hyp.txt\tSegment 75\tscore: 0.7255\n",
      "/project/pi_hongyu_umass_edu/zonghai/hospital_translation/IFT_Metrics/IFT_Metrics/data/DeepSeek-R1-Distill-Qwen-14B_without_finetune_hyp.txt\tSegment 76\tscore: 0.6687\n",
      "/project/pi_hongyu_umass_edu/zonghai/hospital_translation/IFT_Metrics/IFT_Metrics/data/DeepSeek-R1-Distill-Qwen-14B_without_finetune_hyp.txt\tSegment 77\tscore: 0.7513\n",
      "/project/pi_hongyu_umass_edu/zonghai/hospital_translation/IFT_Metrics/IFT_Metrics/data/DeepSeek-R1-Distill-Qwen-14B_without_finetune_hyp.txt\tSegment 78\tscore: 0.7777\n",
      "/project/pi_hongyu_umass_edu/zonghai/hospital_translation/IFT_Metrics/IFT_Metrics/data/DeepSeek-R1-Distill-Qwen-14B_without_finetune_hyp.txt\tSegment 79\tscore: 0.6869\n",
      "/project/pi_hongyu_umass_edu/zonghai/hospital_translation/IFT_Metrics/IFT_Metrics/data/DeepSeek-R1-Distill-Qwen-14B_without_finetune_hyp.txt\tSegment 80\tscore: 0.6729\n",
      "/project/pi_hongyu_umass_edu/zonghai/hospital_translation/IFT_Metrics/IFT_Metrics/data/DeepSeek-R1-Distill-Qwen-14B_without_finetune_hyp.txt\tSegment 81\tscore: 0.7350\n",
      "/project/pi_hongyu_umass_edu/zonghai/hospital_translation/IFT_Metrics/IFT_Metrics/data/DeepSeek-R1-Distill-Qwen-14B_without_finetune_hyp.txt\tSegment 82\tscore: 0.6227\n",
      "/project/pi_hongyu_umass_edu/zonghai/hospital_translation/IFT_Metrics/IFT_Metrics/data/DeepSeek-R1-Distill-Qwen-14B_without_finetune_hyp.txt\tSegment 83\tscore: 0.6011\n",
      "/project/pi_hongyu_umass_edu/zonghai/hospital_translation/IFT_Metrics/IFT_Metrics/data/DeepSeek-R1-Distill-Qwen-14B_without_finetune_hyp.txt\tSegment 84\tscore: 0.7325\n",
      "/project/pi_hongyu_umass_edu/zonghai/hospital_translation/IFT_Metrics/IFT_Metrics/data/DeepSeek-R1-Distill-Qwen-14B_without_finetune_hyp.txt\tSegment 85\tscore: 0.7439\n",
      "/project/pi_hongyu_umass_edu/zonghai/hospital_translation/IFT_Metrics/IFT_Metrics/data/DeepSeek-R1-Distill-Qwen-14B_without_finetune_hyp.txt\tSegment 86\tscore: 0.6249\n",
      "/project/pi_hongyu_umass_edu/zonghai/hospital_translation/IFT_Metrics/IFT_Metrics/data/DeepSeek-R1-Distill-Qwen-14B_without_finetune_hyp.txt\tSegment 87\tscore: 0.8196\n",
      "/project/pi_hongyu_umass_edu/zonghai/hospital_translation/IFT_Metrics/IFT_Metrics/data/DeepSeek-R1-Distill-Qwen-14B_without_finetune_hyp.txt\tSegment 88\tscore: 0.6402\n",
      "/project/pi_hongyu_umass_edu/zonghai/hospital_translation/IFT_Metrics/IFT_Metrics/data/DeepSeek-R1-Distill-Qwen-14B_without_finetune_hyp.txt\tSegment 89\tscore: 0.7193\n",
      "/project/pi_hongyu_umass_edu/zonghai/hospital_translation/IFT_Metrics/IFT_Metrics/data/DeepSeek-R1-Distill-Qwen-14B_without_finetune_hyp.txt\tSegment 90\tscore: 0.7165\n",
      "/project/pi_hongyu_umass_edu/zonghai/hospital_translation/IFT_Metrics/IFT_Metrics/data/DeepSeek-R1-Distill-Qwen-14B_without_finetune_hyp.txt\tSegment 91\tscore: 0.5804\n",
      "/project/pi_hongyu_umass_edu/zonghai/hospital_translation/IFT_Metrics/IFT_Metrics/data/DeepSeek-R1-Distill-Qwen-14B_without_finetune_hyp.txt\tSegment 92\tscore: 0.5990\n",
      "/project/pi_hongyu_umass_edu/zonghai/hospital_translation/IFT_Metrics/IFT_Metrics/data/DeepSeek-R1-Distill-Qwen-14B_without_finetune_hyp.txt\tSegment 93\tscore: 0.4686\n",
      "/project/pi_hongyu_umass_edu/zonghai/hospital_translation/IFT_Metrics/IFT_Metrics/data/DeepSeek-R1-Distill-Qwen-14B_without_finetune_hyp.txt\tSegment 94\tscore: 0.6608\n",
      "/project/pi_hongyu_umass_edu/zonghai/hospital_translation/IFT_Metrics/IFT_Metrics/data/DeepSeek-R1-Distill-Qwen-14B_without_finetune_hyp.txt\tSegment 95\tscore: 0.3287\n",
      "/project/pi_hongyu_umass_edu/zonghai/hospital_translation/IFT_Metrics/IFT_Metrics/data/DeepSeek-R1-Distill-Qwen-14B_without_finetune_hyp.txt\tSegment 96\tscore: 0.7042\n",
      "/project/pi_hongyu_umass_edu/zonghai/hospital_translation/IFT_Metrics/IFT_Metrics/data/DeepSeek-R1-Distill-Qwen-14B_without_finetune_hyp.txt\tSegment 97\tscore: 0.7331\n",
      "/project/pi_hongyu_umass_edu/zonghai/hospital_translation/IFT_Metrics/IFT_Metrics/data/DeepSeek-R1-Distill-Qwen-14B_without_finetune_hyp.txt\tSegment 98\tscore: 0.6472\n",
      "/project/pi_hongyu_umass_edu/zonghai/hospital_translation/IFT_Metrics/IFT_Metrics/data/DeepSeek-R1-Distill-Qwen-14B_without_finetune_hyp.txt\tSegment 99\tscore: 0.8401\n",
      "/project/pi_hongyu_umass_edu/zonghai/hospital_translation/IFT_Metrics/IFT_Metrics/data/DeepSeek-R1-Distill-Qwen-14B_without_finetune_hyp.txt\tscore: 0.6558\n"
     ]
    }
   ],
   "source": [
    "matric.evaluate(\"COMET\")"
   ]
  },
  {
   "cell_type": "code",
   "execution_count": 11,
   "metadata": {},
   "outputs": [
    {
     "name": "stdout",
     "output_type": "stream",
     "text": [
      "ROUGE-1: (0.5492833146715158, 0.5851283728601392, 0.5488622368078425)\n",
      "ROUGE-2: (0.35316686191768487, 0.37345473508064, 0.3505245523519389)\n"
     ]
    }
   ],
   "source": [
    "matric.evaluate(\"ROUGE\")"
   ]
  },
  {
   "cell_type": "code",
   "execution_count": 15,
   "metadata": {},
   "outputs": [
    {
     "name": "stdout",
     "output_type": "stream",
     "text": [
      "LLM-as-a-Judge:  -1.0\n"
     ]
    }
   ],
   "source": [
    "from gpt4o_mini_as_a_judge import llm_as_a_judge_prompt, get_openai_response, get_final_score\n",
    "matric.evaluate(\"LLM_AS_A_JUDGE\")"
   ]
  },
  {
   "cell_type": "code",
   "execution_count": null,
   "metadata": {},
   "outputs": [
    {
     "name": "stderr",
     "output_type": "stream",
     "text": [
      "2025-02-17 23:02:55.829300: I tensorflow/tsl/cuda/cudart_stub.cc:28] Could not find cuda drivers on your machine, GPU will not be used.\n",
      "2025-02-17 23:02:58.840088: I tensorflow/core/platform/cpu_feature_guard.cc:182] This TensorFlow binary is optimized to use available CPU instructions in performance-critical operations.\n",
      "To enable the following instructions: AVX2 FMA, in other operations, rebuild TensorFlow with the appropriate compiler flags.\n",
      "2025-02-17 23:03:04.868557: W tensorflow/compiler/tf2tensorrt/utils/py_utils.cc:38] TF-TRT Warning: Could not find TensorRT\n",
      "Seed set to 1\n",
      "Fetching 5 files: 100%|██████████| 5/5 [00:00<00:00, 18267.87it/s]\n",
      "Lightning automatically upgraded your loaded checkpoint from v1.8.3.post1 to v2.4.0. To apply the upgrade to your files permanently, run `python -m pytorch_lightning.utilities.upgrade_checkpoint ../../../../../../home/lianfu_umass_edu/.cache/huggingface/hub/models--Unbabel--wmt22-comet-da/snapshots/f49d328952c3470eff6bb6f545d62bfdb6e66304/checkpoints/model.ckpt`\n",
      "Encoder model frozen.\n",
      "/home/lianfu_umass_edu/.conda/envs/lianfu/lib/python3.8/site-packages/pytorch_lightning/core/saving.py:195: Found keys that are not in the model state dict but in the checkpoint: ['encoder.model.embeddings.position_ids']\n",
      "/home/lianfu_umass_edu/.conda/envs/lianfu/lib/python3.8/site-packages/torch/utils/data/dataloader.py:557: UserWarning: This DataLoader will create 2 worker processes in total. Our suggested max number of worker in current system is 1, which is smaller than what this DataLoader is going to create. Please be aware that excessive worker creation might get DataLoader running slow or even freeze, lower the worker number to avoid potential slowness/freeze if necessary.\n",
      "  warnings.warn(_create_warning_msg(\n",
      "/home/lianfu_umass_edu/.conda/envs/lianfu/lib/python3.8/site-packages/lightning_fabric/plugins/environments/slurm.py:204: The `srun` command is available on your system but is not used. HINT: If your intention is to run Lightning on SLURM, prepend your python command with `srun` like so: srun python3.8 /home/lianfu_umass_edu/.conda/envs/lianfu/bin/com ...\n",
      "GPU available: True (cuda), used: True\n",
      "TPU available: False, using: 0 TPU cores\n",
      "HPU available: False, using: 0 HPUs\n",
      "LOCAL_RANK: 0 - CUDA_VISIBLE_DEVICES: [0]\n",
      "/home/lianfu_umass_edu/.conda/envs/lianfu/lib/python3.8/site-packages/torch/utils/data/dataloader.py:557: UserWarning: This DataLoader will create 2 worker processes in total. Our suggested max number of worker in current system is 1, which is smaller than what this DataLoader is going to create. Please be aware that excessive worker creation might get DataLoader running slow or even freeze, lower the worker number to avoid potential slowness/freeze if necessary.\n",
      "  warnings.warn(_create_warning_msg(\n",
      "Predicting DataLoader 0: 100%|██████████| 4/4 [00:05<00:00,  1.41s/it]\n"
     ]
    },
    {
     "name": "stdout",
     "output_type": "stream",
     "text": [
      "/project/pi_hongyu_umass_edu/zonghai/hospital_translation/IFT_Metrics/IFT_Metrics/data/NLLB_direct_hyp.txt\tSegment 0\tscore: 0.9303\n",
      "/project/pi_hongyu_umass_edu/zonghai/hospital_translation/IFT_Metrics/IFT_Metrics/data/NLLB_direct_hyp.txt\tSegment 1\tscore: 0.8856\n",
      "/project/pi_hongyu_umass_edu/zonghai/hospital_translation/IFT_Metrics/IFT_Metrics/data/NLLB_direct_hyp.txt\tSegment 2\tscore: 0.8868\n",
      "/project/pi_hongyu_umass_edu/zonghai/hospital_translation/IFT_Metrics/IFT_Metrics/data/NLLB_direct_hyp.txt\tSegment 3\tscore: 0.8682\n",
      "/project/pi_hongyu_umass_edu/zonghai/hospital_translation/IFT_Metrics/IFT_Metrics/data/NLLB_direct_hyp.txt\tSegment 4\tscore: 0.8984\n",
      "/project/pi_hongyu_umass_edu/zonghai/hospital_translation/IFT_Metrics/IFT_Metrics/data/NLLB_direct_hyp.txt\tSegment 5\tscore: 0.8374\n",
      "/project/pi_hongyu_umass_edu/zonghai/hospital_translation/IFT_Metrics/IFT_Metrics/data/NLLB_direct_hyp.txt\tSegment 6\tscore: 0.8904\n",
      "/project/pi_hongyu_umass_edu/zonghai/hospital_translation/IFT_Metrics/IFT_Metrics/data/NLLB_direct_hyp.txt\tSegment 7\tscore: 0.7175\n",
      "/project/pi_hongyu_umass_edu/zonghai/hospital_translation/IFT_Metrics/IFT_Metrics/data/NLLB_direct_hyp.txt\tSegment 8\tscore: 0.9830\n",
      "/project/pi_hongyu_umass_edu/zonghai/hospital_translation/IFT_Metrics/IFT_Metrics/data/NLLB_direct_hyp.txt\tSegment 9\tscore: 0.9114\n",
      "/project/pi_hongyu_umass_edu/zonghai/hospital_translation/IFT_Metrics/IFT_Metrics/data/NLLB_direct_hyp.txt\tSegment 10\tscore: 0.9037\n",
      "/project/pi_hongyu_umass_edu/zonghai/hospital_translation/IFT_Metrics/IFT_Metrics/data/NLLB_direct_hyp.txt\tSegment 11\tscore: 0.9507\n",
      "/project/pi_hongyu_umass_edu/zonghai/hospital_translation/IFT_Metrics/IFT_Metrics/data/NLLB_direct_hyp.txt\tSegment 12\tscore: 0.9828\n",
      "/project/pi_hongyu_umass_edu/zonghai/hospital_translation/IFT_Metrics/IFT_Metrics/data/NLLB_direct_hyp.txt\tSegment 13\tscore: 0.9044\n",
      "/project/pi_hongyu_umass_edu/zonghai/hospital_translation/IFT_Metrics/IFT_Metrics/data/NLLB_direct_hyp.txt\tSegment 14\tscore: 0.8627\n",
      "/project/pi_hongyu_umass_edu/zonghai/hospital_translation/IFT_Metrics/IFT_Metrics/data/NLLB_direct_hyp.txt\tSegment 15\tscore: 0.9662\n",
      "/project/pi_hongyu_umass_edu/zonghai/hospital_translation/IFT_Metrics/IFT_Metrics/data/NLLB_direct_hyp.txt\tSegment 16\tscore: 0.9468\n",
      "/project/pi_hongyu_umass_edu/zonghai/hospital_translation/IFT_Metrics/IFT_Metrics/data/NLLB_direct_hyp.txt\tSegment 17\tscore: 0.8323\n",
      "/project/pi_hongyu_umass_edu/zonghai/hospital_translation/IFT_Metrics/IFT_Metrics/data/NLLB_direct_hyp.txt\tSegment 18\tscore: 0.9014\n",
      "/project/pi_hongyu_umass_edu/zonghai/hospital_translation/IFT_Metrics/IFT_Metrics/data/NLLB_direct_hyp.txt\tSegment 19\tscore: 0.9127\n",
      "/project/pi_hongyu_umass_edu/zonghai/hospital_translation/IFT_Metrics/IFT_Metrics/data/NLLB_direct_hyp.txt\tSegment 20\tscore: 0.9521\n",
      "/project/pi_hongyu_umass_edu/zonghai/hospital_translation/IFT_Metrics/IFT_Metrics/data/NLLB_direct_hyp.txt\tSegment 21\tscore: 0.9394\n",
      "/project/pi_hongyu_umass_edu/zonghai/hospital_translation/IFT_Metrics/IFT_Metrics/data/NLLB_direct_hyp.txt\tSegment 22\tscore: 0.8014\n",
      "/project/pi_hongyu_umass_edu/zonghai/hospital_translation/IFT_Metrics/IFT_Metrics/data/NLLB_direct_hyp.txt\tSegment 23\tscore: 0.9152\n",
      "/project/pi_hongyu_umass_edu/zonghai/hospital_translation/IFT_Metrics/IFT_Metrics/data/NLLB_direct_hyp.txt\tSegment 24\tscore: 0.9399\n",
      "/project/pi_hongyu_umass_edu/zonghai/hospital_translation/IFT_Metrics/IFT_Metrics/data/NLLB_direct_hyp.txt\tSegment 25\tscore: 0.9313\n",
      "/project/pi_hongyu_umass_edu/zonghai/hospital_translation/IFT_Metrics/IFT_Metrics/data/NLLB_direct_hyp.txt\tSegment 26\tscore: 0.9941\n",
      "/project/pi_hongyu_umass_edu/zonghai/hospital_translation/IFT_Metrics/IFT_Metrics/data/NLLB_direct_hyp.txt\tSegment 27\tscore: 0.9777\n",
      "/project/pi_hongyu_umass_edu/zonghai/hospital_translation/IFT_Metrics/IFT_Metrics/data/NLLB_direct_hyp.txt\tSegment 28\tscore: 0.9313\n",
      "/project/pi_hongyu_umass_edu/zonghai/hospital_translation/IFT_Metrics/IFT_Metrics/data/NLLB_direct_hyp.txt\tSegment 29\tscore: 0.8615\n",
      "/project/pi_hongyu_umass_edu/zonghai/hospital_translation/IFT_Metrics/IFT_Metrics/data/NLLB_direct_hyp.txt\tSegment 30\tscore: 0.3153\n",
      "/project/pi_hongyu_umass_edu/zonghai/hospital_translation/IFT_Metrics/IFT_Metrics/data/NLLB_direct_hyp.txt\tSegment 31\tscore: 0.8509\n",
      "/project/pi_hongyu_umass_edu/zonghai/hospital_translation/IFT_Metrics/IFT_Metrics/data/NLLB_direct_hyp.txt\tSegment 32\tscore: 0.8749\n",
      "/project/pi_hongyu_umass_edu/zonghai/hospital_translation/IFT_Metrics/IFT_Metrics/data/NLLB_direct_hyp.txt\tSegment 33\tscore: 0.9243\n",
      "/project/pi_hongyu_umass_edu/zonghai/hospital_translation/IFT_Metrics/IFT_Metrics/data/NLLB_direct_hyp.txt\tSegment 34\tscore: 0.9267\n",
      "/project/pi_hongyu_umass_edu/zonghai/hospital_translation/IFT_Metrics/IFT_Metrics/data/NLLB_direct_hyp.txt\tSegment 35\tscore: 0.9524\n",
      "/project/pi_hongyu_umass_edu/zonghai/hospital_translation/IFT_Metrics/IFT_Metrics/data/NLLB_direct_hyp.txt\tSegment 36\tscore: 0.9337\n",
      "/project/pi_hongyu_umass_edu/zonghai/hospital_translation/IFT_Metrics/IFT_Metrics/data/NLLB_direct_hyp.txt\tSegment 37\tscore: 0.9177\n",
      "/project/pi_hongyu_umass_edu/zonghai/hospital_translation/IFT_Metrics/IFT_Metrics/data/NLLB_direct_hyp.txt\tSegment 38\tscore: 0.9498\n",
      "/project/pi_hongyu_umass_edu/zonghai/hospital_translation/IFT_Metrics/IFT_Metrics/data/NLLB_direct_hyp.txt\tSegment 39\tscore: 0.6765\n",
      "/project/pi_hongyu_umass_edu/zonghai/hospital_translation/IFT_Metrics/IFT_Metrics/data/NLLB_direct_hyp.txt\tSegment 40\tscore: 0.9358\n",
      "/project/pi_hongyu_umass_edu/zonghai/hospital_translation/IFT_Metrics/IFT_Metrics/data/NLLB_direct_hyp.txt\tSegment 41\tscore: 0.9249\n",
      "/project/pi_hongyu_umass_edu/zonghai/hospital_translation/IFT_Metrics/IFT_Metrics/data/NLLB_direct_hyp.txt\tSegment 42\tscore: 0.8894\n",
      "/project/pi_hongyu_umass_edu/zonghai/hospital_translation/IFT_Metrics/IFT_Metrics/data/NLLB_direct_hyp.txt\tSegment 43\tscore: 0.8342\n",
      "/project/pi_hongyu_umass_edu/zonghai/hospital_translation/IFT_Metrics/IFT_Metrics/data/NLLB_direct_hyp.txt\tSegment 44\tscore: 0.9152\n",
      "/project/pi_hongyu_umass_edu/zonghai/hospital_translation/IFT_Metrics/IFT_Metrics/data/NLLB_direct_hyp.txt\tSegment 45\tscore: 0.7860\n",
      "/project/pi_hongyu_umass_edu/zonghai/hospital_translation/IFT_Metrics/IFT_Metrics/data/NLLB_direct_hyp.txt\tSegment 46\tscore: 0.8509\n",
      "/project/pi_hongyu_umass_edu/zonghai/hospital_translation/IFT_Metrics/IFT_Metrics/data/NLLB_direct_hyp.txt\tSegment 47\tscore: 0.9115\n",
      "/project/pi_hongyu_umass_edu/zonghai/hospital_translation/IFT_Metrics/IFT_Metrics/data/NLLB_direct_hyp.txt\tSegment 48\tscore: 0.8818\n",
      "/project/pi_hongyu_umass_edu/zonghai/hospital_translation/IFT_Metrics/IFT_Metrics/data/NLLB_direct_hyp.txt\tSegment 49\tscore: 0.9004\n",
      "/project/pi_hongyu_umass_edu/zonghai/hospital_translation/IFT_Metrics/IFT_Metrics/data/NLLB_direct_hyp.txt\tSegment 50\tscore: 0.8509\n",
      "/project/pi_hongyu_umass_edu/zonghai/hospital_translation/IFT_Metrics/IFT_Metrics/data/NLLB_direct_hyp.txt\tSegment 51\tscore: 0.8330\n",
      "/project/pi_hongyu_umass_edu/zonghai/hospital_translation/IFT_Metrics/IFT_Metrics/data/NLLB_direct_hyp.txt\tSegment 52\tscore: 0.9069\n",
      "/project/pi_hongyu_umass_edu/zonghai/hospital_translation/IFT_Metrics/IFT_Metrics/data/NLLB_direct_hyp.txt\tSegment 53\tscore: 0.8088\n",
      "/project/pi_hongyu_umass_edu/zonghai/hospital_translation/IFT_Metrics/IFT_Metrics/data/NLLB_direct_hyp.txt\tSegment 54\tscore: 0.8915\n",
      "/project/pi_hongyu_umass_edu/zonghai/hospital_translation/IFT_Metrics/IFT_Metrics/data/NLLB_direct_hyp.txt\tSegment 55\tscore: 0.8117\n",
      "/project/pi_hongyu_umass_edu/zonghai/hospital_translation/IFT_Metrics/IFT_Metrics/data/NLLB_direct_hyp.txt\tSegment 56\tscore: 0.8601\n",
      "/project/pi_hongyu_umass_edu/zonghai/hospital_translation/IFT_Metrics/IFT_Metrics/data/NLLB_direct_hyp.txt\tscore: 0.8830\n"
     ]
    }
   ],
   "source": [
    "matric = EvaluateMatric(\"/project/pi_hongyu_umass_edu/zonghai/hospital_translation/IFT_Metrics/IFT_Metrics/data/NLLB_direct.json\",generated=\"translated_spanish\",target=\"original_spanish\",original=\"original_english\")\n",
    "# matric.evaluate(\"BLEU\")\n",
    "matric.evaluate(\"COMET\")"
   ]
  },
  {
   "cell_type": "code",
   "execution_count": 29,
   "metadata": {},
   "outputs": [
    {
     "name": "stderr",
     "output_type": "stream",
     "text": [
      "2025-02-17 22:57:06.692682: I tensorflow/tsl/cuda/cudart_stub.cc:28] Could not find cuda drivers on your machine, GPU will not be used.\n",
      "2025-02-17 22:57:11.970805: I tensorflow/core/platform/cpu_feature_guard.cc:182] This TensorFlow binary is optimized to use available CPU instructions in performance-critical operations.\n",
      "To enable the following instructions: AVX2 FMA, in other operations, rebuild TensorFlow with the appropriate compiler flags.\n",
      "2025-02-17 22:57:22.992114: W tensorflow/compiler/tf2tensorrt/utils/py_utils.cc:38] TF-TRT Warning: Could not find TensorRT\n",
      "Seed set to 1\n",
      "Fetching 5 files: 100%|██████████| 5/5 [00:00<00:00, 42799.02it/s]\n",
      "Lightning automatically upgraded your loaded checkpoint from v1.8.3.post1 to v2.4.0. To apply the upgrade to your files permanently, run `python -m pytorch_lightning.utilities.upgrade_checkpoint ../../../../../../home/lianfu_umass_edu/.cache/huggingface/hub/models--Unbabel--wmt22-comet-da/snapshots/f49d328952c3470eff6bb6f545d62bfdb6e66304/checkpoints/model.ckpt`\n",
      "Encoder model frozen.\n",
      "/home/lianfu_umass_edu/.conda/envs/lianfu/lib/python3.8/site-packages/pytorch_lightning/core/saving.py:195: Found keys that are not in the model state dict but in the checkpoint: ['encoder.model.embeddings.position_ids']\n",
      "/home/lianfu_umass_edu/.conda/envs/lianfu/lib/python3.8/site-packages/torch/utils/data/dataloader.py:557: UserWarning: This DataLoader will create 2 worker processes in total. Our suggested max number of worker in current system is 1, which is smaller than what this DataLoader is going to create. Please be aware that excessive worker creation might get DataLoader running slow or even freeze, lower the worker number to avoid potential slowness/freeze if necessary.\n",
      "  warnings.warn(_create_warning_msg(\n",
      "/home/lianfu_umass_edu/.conda/envs/lianfu/lib/python3.8/site-packages/lightning_fabric/plugins/environments/slurm.py:204: The `srun` command is available on your system but is not used. HINT: If your intention is to run Lightning on SLURM, prepend your python command with `srun` like so: srun python3.8 /home/lianfu_umass_edu/.conda/envs/lianfu/bin/com ...\n",
      "GPU available: True (cuda), used: True\n",
      "TPU available: False, using: 0 TPU cores\n",
      "HPU available: False, using: 0 HPUs\n",
      "LOCAL_RANK: 0 - CUDA_VISIBLE_DEVICES: [0]\n",
      "/home/lianfu_umass_edu/.conda/envs/lianfu/lib/python3.8/site-packages/torch/utils/data/dataloader.py:557: UserWarning: This DataLoader will create 2 worker processes in total. Our suggested max number of worker in current system is 1, which is smaller than what this DataLoader is going to create. Please be aware that excessive worker creation might get DataLoader running slow or even freeze, lower the worker number to avoid potential slowness/freeze if necessary.\n",
      "  warnings.warn(_create_warning_msg(\n",
      "Predicting DataLoader 0: 100%|██████████| 7/7 [00:07<00:00,  1.14s/it]\n"
     ]
    },
    {
     "name": "stdout",
     "output_type": "stream",
     "text": [
      "/project/pi_hongyu_umass_edu/zonghai/hospital_translation/IFT_Metrics/IFT_Metrics/data/bleu_chrf_score_DeepSeek-R1-Distill-Llama-8B_hyp.txt\tSegment 0\tscore: 0.7596\n",
      "/project/pi_hongyu_umass_edu/zonghai/hospital_translation/IFT_Metrics/IFT_Metrics/data/bleu_chrf_score_DeepSeek-R1-Distill-Llama-8B_hyp.txt\tSegment 1\tscore: 0.7491\n",
      "/project/pi_hongyu_umass_edu/zonghai/hospital_translation/IFT_Metrics/IFT_Metrics/data/bleu_chrf_score_DeepSeek-R1-Distill-Llama-8B_hyp.txt\tSegment 2\tscore: 0.7912\n",
      "/project/pi_hongyu_umass_edu/zonghai/hospital_translation/IFT_Metrics/IFT_Metrics/data/bleu_chrf_score_DeepSeek-R1-Distill-Llama-8B_hyp.txt\tSegment 3\tscore: 0.8376\n",
      "/project/pi_hongyu_umass_edu/zonghai/hospital_translation/IFT_Metrics/IFT_Metrics/data/bleu_chrf_score_DeepSeek-R1-Distill-Llama-8B_hyp.txt\tSegment 4\tscore: 0.8421\n",
      "/project/pi_hongyu_umass_edu/zonghai/hospital_translation/IFT_Metrics/IFT_Metrics/data/bleu_chrf_score_DeepSeek-R1-Distill-Llama-8B_hyp.txt\tSegment 5\tscore: 0.8225\n",
      "/project/pi_hongyu_umass_edu/zonghai/hospital_translation/IFT_Metrics/IFT_Metrics/data/bleu_chrf_score_DeepSeek-R1-Distill-Llama-8B_hyp.txt\tSegment 6\tscore: 0.8437\n",
      "/project/pi_hongyu_umass_edu/zonghai/hospital_translation/IFT_Metrics/IFT_Metrics/data/bleu_chrf_score_DeepSeek-R1-Distill-Llama-8B_hyp.txt\tSegment 7\tscore: 0.6995\n",
      "/project/pi_hongyu_umass_edu/zonghai/hospital_translation/IFT_Metrics/IFT_Metrics/data/bleu_chrf_score_DeepSeek-R1-Distill-Llama-8B_hyp.txt\tSegment 8\tscore: 0.6869\n",
      "/project/pi_hongyu_umass_edu/zonghai/hospital_translation/IFT_Metrics/IFT_Metrics/data/bleu_chrf_score_DeepSeek-R1-Distill-Llama-8B_hyp.txt\tSegment 9\tscore: 0.5570\n",
      "/project/pi_hongyu_umass_edu/zonghai/hospital_translation/IFT_Metrics/IFT_Metrics/data/bleu_chrf_score_DeepSeek-R1-Distill-Llama-8B_hyp.txt\tSegment 10\tscore: 0.6978\n",
      "/project/pi_hongyu_umass_edu/zonghai/hospital_translation/IFT_Metrics/IFT_Metrics/data/bleu_chrf_score_DeepSeek-R1-Distill-Llama-8B_hyp.txt\tSegment 11\tscore: 0.7624\n",
      "/project/pi_hongyu_umass_edu/zonghai/hospital_translation/IFT_Metrics/IFT_Metrics/data/bleu_chrf_score_DeepSeek-R1-Distill-Llama-8B_hyp.txt\tSegment 12\tscore: 0.6684\n",
      "/project/pi_hongyu_umass_edu/zonghai/hospital_translation/IFT_Metrics/IFT_Metrics/data/bleu_chrf_score_DeepSeek-R1-Distill-Llama-8B_hyp.txt\tSegment 13\tscore: 0.6217\n",
      "/project/pi_hongyu_umass_edu/zonghai/hospital_translation/IFT_Metrics/IFT_Metrics/data/bleu_chrf_score_DeepSeek-R1-Distill-Llama-8B_hyp.txt\tSegment 14\tscore: 0.5675\n",
      "/project/pi_hongyu_umass_edu/zonghai/hospital_translation/IFT_Metrics/IFT_Metrics/data/bleu_chrf_score_DeepSeek-R1-Distill-Llama-8B_hyp.txt\tSegment 15\tscore: 0.7925\n",
      "/project/pi_hongyu_umass_edu/zonghai/hospital_translation/IFT_Metrics/IFT_Metrics/data/bleu_chrf_score_DeepSeek-R1-Distill-Llama-8B_hyp.txt\tSegment 16\tscore: 0.7290\n",
      "/project/pi_hongyu_umass_edu/zonghai/hospital_translation/IFT_Metrics/IFT_Metrics/data/bleu_chrf_score_DeepSeek-R1-Distill-Llama-8B_hyp.txt\tSegment 17\tscore: 0.7701\n",
      "/project/pi_hongyu_umass_edu/zonghai/hospital_translation/IFT_Metrics/IFT_Metrics/data/bleu_chrf_score_DeepSeek-R1-Distill-Llama-8B_hyp.txt\tSegment 18\tscore: 0.7896\n",
      "/project/pi_hongyu_umass_edu/zonghai/hospital_translation/IFT_Metrics/IFT_Metrics/data/bleu_chrf_score_DeepSeek-R1-Distill-Llama-8B_hyp.txt\tSegment 19\tscore: 0.7215\n",
      "/project/pi_hongyu_umass_edu/zonghai/hospital_translation/IFT_Metrics/IFT_Metrics/data/bleu_chrf_score_DeepSeek-R1-Distill-Llama-8B_hyp.txt\tSegment 20\tscore: 0.8156\n",
      "/project/pi_hongyu_umass_edu/zonghai/hospital_translation/IFT_Metrics/IFT_Metrics/data/bleu_chrf_score_DeepSeek-R1-Distill-Llama-8B_hyp.txt\tSegment 21\tscore: 0.8313\n",
      "/project/pi_hongyu_umass_edu/zonghai/hospital_translation/IFT_Metrics/IFT_Metrics/data/bleu_chrf_score_DeepSeek-R1-Distill-Llama-8B_hyp.txt\tSegment 22\tscore: 0.6188\n",
      "/project/pi_hongyu_umass_edu/zonghai/hospital_translation/IFT_Metrics/IFT_Metrics/data/bleu_chrf_score_DeepSeek-R1-Distill-Llama-8B_hyp.txt\tSegment 23\tscore: 0.6478\n",
      "/project/pi_hongyu_umass_edu/zonghai/hospital_translation/IFT_Metrics/IFT_Metrics/data/bleu_chrf_score_DeepSeek-R1-Distill-Llama-8B_hyp.txt\tSegment 24\tscore: 0.6303\n",
      "/project/pi_hongyu_umass_edu/zonghai/hospital_translation/IFT_Metrics/IFT_Metrics/data/bleu_chrf_score_DeepSeek-R1-Distill-Llama-8B_hyp.txt\tSegment 25\tscore: 0.4618\n",
      "/project/pi_hongyu_umass_edu/zonghai/hospital_translation/IFT_Metrics/IFT_Metrics/data/bleu_chrf_score_DeepSeek-R1-Distill-Llama-8B_hyp.txt\tSegment 26\tscore: 0.6585\n",
      "/project/pi_hongyu_umass_edu/zonghai/hospital_translation/IFT_Metrics/IFT_Metrics/data/bleu_chrf_score_DeepSeek-R1-Distill-Llama-8B_hyp.txt\tSegment 27\tscore: 0.4827\n",
      "/project/pi_hongyu_umass_edu/zonghai/hospital_translation/IFT_Metrics/IFT_Metrics/data/bleu_chrf_score_DeepSeek-R1-Distill-Llama-8B_hyp.txt\tSegment 28\tscore: 0.6390\n",
      "/project/pi_hongyu_umass_edu/zonghai/hospital_translation/IFT_Metrics/IFT_Metrics/data/bleu_chrf_score_DeepSeek-R1-Distill-Llama-8B_hyp.txt\tSegment 29\tscore: 0.5354\n",
      "/project/pi_hongyu_umass_edu/zonghai/hospital_translation/IFT_Metrics/IFT_Metrics/data/bleu_chrf_score_DeepSeek-R1-Distill-Llama-8B_hyp.txt\tSegment 30\tscore: 0.3227\n",
      "/project/pi_hongyu_umass_edu/zonghai/hospital_translation/IFT_Metrics/IFT_Metrics/data/bleu_chrf_score_DeepSeek-R1-Distill-Llama-8B_hyp.txt\tSegment 31\tscore: 0.4939\n",
      "/project/pi_hongyu_umass_edu/zonghai/hospital_translation/IFT_Metrics/IFT_Metrics/data/bleu_chrf_score_DeepSeek-R1-Distill-Llama-8B_hyp.txt\tSegment 32\tscore: 0.6307\n",
      "/project/pi_hongyu_umass_edu/zonghai/hospital_translation/IFT_Metrics/IFT_Metrics/data/bleu_chrf_score_DeepSeek-R1-Distill-Llama-8B_hyp.txt\tSegment 33\tscore: 0.6889\n",
      "/project/pi_hongyu_umass_edu/zonghai/hospital_translation/IFT_Metrics/IFT_Metrics/data/bleu_chrf_score_DeepSeek-R1-Distill-Llama-8B_hyp.txt\tSegment 34\tscore: 0.8243\n",
      "/project/pi_hongyu_umass_edu/zonghai/hospital_translation/IFT_Metrics/IFT_Metrics/data/bleu_chrf_score_DeepSeek-R1-Distill-Llama-8B_hyp.txt\tSegment 35\tscore: 0.8600\n",
      "/project/pi_hongyu_umass_edu/zonghai/hospital_translation/IFT_Metrics/IFT_Metrics/data/bleu_chrf_score_DeepSeek-R1-Distill-Llama-8B_hyp.txt\tSegment 36\tscore: 0.7845\n",
      "/project/pi_hongyu_umass_edu/zonghai/hospital_translation/IFT_Metrics/IFT_Metrics/data/bleu_chrf_score_DeepSeek-R1-Distill-Llama-8B_hyp.txt\tSegment 37\tscore: 0.8292\n",
      "/project/pi_hongyu_umass_edu/zonghai/hospital_translation/IFT_Metrics/IFT_Metrics/data/bleu_chrf_score_DeepSeek-R1-Distill-Llama-8B_hyp.txt\tSegment 38\tscore: 0.8331\n",
      "/project/pi_hongyu_umass_edu/zonghai/hospital_translation/IFT_Metrics/IFT_Metrics/data/bleu_chrf_score_DeepSeek-R1-Distill-Llama-8B_hyp.txt\tSegment 39\tscore: 0.5684\n",
      "/project/pi_hongyu_umass_edu/zonghai/hospital_translation/IFT_Metrics/IFT_Metrics/data/bleu_chrf_score_DeepSeek-R1-Distill-Llama-8B_hyp.txt\tSegment 40\tscore: 0.8414\n",
      "/project/pi_hongyu_umass_edu/zonghai/hospital_translation/IFT_Metrics/IFT_Metrics/data/bleu_chrf_score_DeepSeek-R1-Distill-Llama-8B_hyp.txt\tSegment 41\tscore: 0.8249\n",
      "/project/pi_hongyu_umass_edu/zonghai/hospital_translation/IFT_Metrics/IFT_Metrics/data/bleu_chrf_score_DeepSeek-R1-Distill-Llama-8B_hyp.txt\tSegment 42\tscore: 0.8326\n",
      "/project/pi_hongyu_umass_edu/zonghai/hospital_translation/IFT_Metrics/IFT_Metrics/data/bleu_chrf_score_DeepSeek-R1-Distill-Llama-8B_hyp.txt\tSegment 43\tscore: 0.7091\n",
      "/project/pi_hongyu_umass_edu/zonghai/hospital_translation/IFT_Metrics/IFT_Metrics/data/bleu_chrf_score_DeepSeek-R1-Distill-Llama-8B_hyp.txt\tSegment 44\tscore: 0.8466\n",
      "/project/pi_hongyu_umass_edu/zonghai/hospital_translation/IFT_Metrics/IFT_Metrics/data/bleu_chrf_score_DeepSeek-R1-Distill-Llama-8B_hyp.txt\tSegment 45\tscore: 0.6974\n",
      "/project/pi_hongyu_umass_edu/zonghai/hospital_translation/IFT_Metrics/IFT_Metrics/data/bleu_chrf_score_DeepSeek-R1-Distill-Llama-8B_hyp.txt\tSegment 46\tscore: 0.7706\n",
      "/project/pi_hongyu_umass_edu/zonghai/hospital_translation/IFT_Metrics/IFT_Metrics/data/bleu_chrf_score_DeepSeek-R1-Distill-Llama-8B_hyp.txt\tSegment 47\tscore: 0.8326\n",
      "/project/pi_hongyu_umass_edu/zonghai/hospital_translation/IFT_Metrics/IFT_Metrics/data/bleu_chrf_score_DeepSeek-R1-Distill-Llama-8B_hyp.txt\tSegment 48\tscore: 0.7541\n",
      "/project/pi_hongyu_umass_edu/zonghai/hospital_translation/IFT_Metrics/IFT_Metrics/data/bleu_chrf_score_DeepSeek-R1-Distill-Llama-8B_hyp.txt\tSegment 49\tscore: 0.8391\n",
      "/project/pi_hongyu_umass_edu/zonghai/hospital_translation/IFT_Metrics/IFT_Metrics/data/bleu_chrf_score_DeepSeek-R1-Distill-Llama-8B_hyp.txt\tSegment 50\tscore: 0.6796\n",
      "/project/pi_hongyu_umass_edu/zonghai/hospital_translation/IFT_Metrics/IFT_Metrics/data/bleu_chrf_score_DeepSeek-R1-Distill-Llama-8B_hyp.txt\tSegment 51\tscore: 0.8316\n",
      "/project/pi_hongyu_umass_edu/zonghai/hospital_translation/IFT_Metrics/IFT_Metrics/data/bleu_chrf_score_DeepSeek-R1-Distill-Llama-8B_hyp.txt\tSegment 52\tscore: 0.7541\n",
      "/project/pi_hongyu_umass_edu/zonghai/hospital_translation/IFT_Metrics/IFT_Metrics/data/bleu_chrf_score_DeepSeek-R1-Distill-Llama-8B_hyp.txt\tSegment 53\tscore: 0.8272\n",
      "/project/pi_hongyu_umass_edu/zonghai/hospital_translation/IFT_Metrics/IFT_Metrics/data/bleu_chrf_score_DeepSeek-R1-Distill-Llama-8B_hyp.txt\tSegment 54\tscore: 0.8324\n",
      "/project/pi_hongyu_umass_edu/zonghai/hospital_translation/IFT_Metrics/IFT_Metrics/data/bleu_chrf_score_DeepSeek-R1-Distill-Llama-8B_hyp.txt\tSegment 55\tscore: 0.6723\n",
      "/project/pi_hongyu_umass_edu/zonghai/hospital_translation/IFT_Metrics/IFT_Metrics/data/bleu_chrf_score_DeepSeek-R1-Distill-Llama-8B_hyp.txt\tSegment 56\tscore: 0.7265\n",
      "/project/pi_hongyu_umass_edu/zonghai/hospital_translation/IFT_Metrics/IFT_Metrics/data/bleu_chrf_score_DeepSeek-R1-Distill-Llama-8B_hyp.txt\tSegment 57\tscore: 0.7630\n",
      "/project/pi_hongyu_umass_edu/zonghai/hospital_translation/IFT_Metrics/IFT_Metrics/data/bleu_chrf_score_DeepSeek-R1-Distill-Llama-8B_hyp.txt\tSegment 58\tscore: 0.8111\n",
      "/project/pi_hongyu_umass_edu/zonghai/hospital_translation/IFT_Metrics/IFT_Metrics/data/bleu_chrf_score_DeepSeek-R1-Distill-Llama-8B_hyp.txt\tSegment 59\tscore: 0.7920\n",
      "/project/pi_hongyu_umass_edu/zonghai/hospital_translation/IFT_Metrics/IFT_Metrics/data/bleu_chrf_score_DeepSeek-R1-Distill-Llama-8B_hyp.txt\tSegment 60\tscore: 0.5790\n",
      "/project/pi_hongyu_umass_edu/zonghai/hospital_translation/IFT_Metrics/IFT_Metrics/data/bleu_chrf_score_DeepSeek-R1-Distill-Llama-8B_hyp.txt\tSegment 61\tscore: 0.6416\n",
      "/project/pi_hongyu_umass_edu/zonghai/hospital_translation/IFT_Metrics/IFT_Metrics/data/bleu_chrf_score_DeepSeek-R1-Distill-Llama-8B_hyp.txt\tSegment 62\tscore: 0.7699\n",
      "/project/pi_hongyu_umass_edu/zonghai/hospital_translation/IFT_Metrics/IFT_Metrics/data/bleu_chrf_score_DeepSeek-R1-Distill-Llama-8B_hyp.txt\tSegment 63\tscore: 0.8174\n",
      "/project/pi_hongyu_umass_edu/zonghai/hospital_translation/IFT_Metrics/IFT_Metrics/data/bleu_chrf_score_DeepSeek-R1-Distill-Llama-8B_hyp.txt\tSegment 64\tscore: 0.7750\n",
      "/project/pi_hongyu_umass_edu/zonghai/hospital_translation/IFT_Metrics/IFT_Metrics/data/bleu_chrf_score_DeepSeek-R1-Distill-Llama-8B_hyp.txt\tSegment 65\tscore: 0.7775\n",
      "/project/pi_hongyu_umass_edu/zonghai/hospital_translation/IFT_Metrics/IFT_Metrics/data/bleu_chrf_score_DeepSeek-R1-Distill-Llama-8B_hyp.txt\tSegment 66\tscore: 0.7815\n",
      "/project/pi_hongyu_umass_edu/zonghai/hospital_translation/IFT_Metrics/IFT_Metrics/data/bleu_chrf_score_DeepSeek-R1-Distill-Llama-8B_hyp.txt\tSegment 67\tscore: 0.8160\n",
      "/project/pi_hongyu_umass_edu/zonghai/hospital_translation/IFT_Metrics/IFT_Metrics/data/bleu_chrf_score_DeepSeek-R1-Distill-Llama-8B_hyp.txt\tSegment 68\tscore: 0.8166\n",
      "/project/pi_hongyu_umass_edu/zonghai/hospital_translation/IFT_Metrics/IFT_Metrics/data/bleu_chrf_score_DeepSeek-R1-Distill-Llama-8B_hyp.txt\tSegment 69\tscore: 0.8015\n",
      "/project/pi_hongyu_umass_edu/zonghai/hospital_translation/IFT_Metrics/IFT_Metrics/data/bleu_chrf_score_DeepSeek-R1-Distill-Llama-8B_hyp.txt\tSegment 70\tscore: 0.7315\n",
      "/project/pi_hongyu_umass_edu/zonghai/hospital_translation/IFT_Metrics/IFT_Metrics/data/bleu_chrf_score_DeepSeek-R1-Distill-Llama-8B_hyp.txt\tSegment 71\tscore: 0.7803\n",
      "/project/pi_hongyu_umass_edu/zonghai/hospital_translation/IFT_Metrics/IFT_Metrics/data/bleu_chrf_score_DeepSeek-R1-Distill-Llama-8B_hyp.txt\tSegment 72\tscore: 0.6113\n",
      "/project/pi_hongyu_umass_edu/zonghai/hospital_translation/IFT_Metrics/IFT_Metrics/data/bleu_chrf_score_DeepSeek-R1-Distill-Llama-8B_hyp.txt\tSegment 73\tscore: 0.6631\n",
      "/project/pi_hongyu_umass_edu/zonghai/hospital_translation/IFT_Metrics/IFT_Metrics/data/bleu_chrf_score_DeepSeek-R1-Distill-Llama-8B_hyp.txt\tSegment 74\tscore: 0.7503\n",
      "/project/pi_hongyu_umass_edu/zonghai/hospital_translation/IFT_Metrics/IFT_Metrics/data/bleu_chrf_score_DeepSeek-R1-Distill-Llama-8B_hyp.txt\tSegment 75\tscore: 0.7525\n",
      "/project/pi_hongyu_umass_edu/zonghai/hospital_translation/IFT_Metrics/IFT_Metrics/data/bleu_chrf_score_DeepSeek-R1-Distill-Llama-8B_hyp.txt\tSegment 76\tscore: 0.6748\n",
      "/project/pi_hongyu_umass_edu/zonghai/hospital_translation/IFT_Metrics/IFT_Metrics/data/bleu_chrf_score_DeepSeek-R1-Distill-Llama-8B_hyp.txt\tSegment 77\tscore: 0.8106\n",
      "/project/pi_hongyu_umass_edu/zonghai/hospital_translation/IFT_Metrics/IFT_Metrics/data/bleu_chrf_score_DeepSeek-R1-Distill-Llama-8B_hyp.txt\tSegment 78\tscore: 0.8172\n",
      "/project/pi_hongyu_umass_edu/zonghai/hospital_translation/IFT_Metrics/IFT_Metrics/data/bleu_chrf_score_DeepSeek-R1-Distill-Llama-8B_hyp.txt\tSegment 79\tscore: 0.7790\n",
      "/project/pi_hongyu_umass_edu/zonghai/hospital_translation/IFT_Metrics/IFT_Metrics/data/bleu_chrf_score_DeepSeek-R1-Distill-Llama-8B_hyp.txt\tSegment 80\tscore: 0.7672\n",
      "/project/pi_hongyu_umass_edu/zonghai/hospital_translation/IFT_Metrics/IFT_Metrics/data/bleu_chrf_score_DeepSeek-R1-Distill-Llama-8B_hyp.txt\tSegment 81\tscore: 0.6602\n",
      "/project/pi_hongyu_umass_edu/zonghai/hospital_translation/IFT_Metrics/IFT_Metrics/data/bleu_chrf_score_DeepSeek-R1-Distill-Llama-8B_hyp.txt\tSegment 82\tscore: 0.6637\n",
      "/project/pi_hongyu_umass_edu/zonghai/hospital_translation/IFT_Metrics/IFT_Metrics/data/bleu_chrf_score_DeepSeek-R1-Distill-Llama-8B_hyp.txt\tSegment 83\tscore: 0.6380\n",
      "/project/pi_hongyu_umass_edu/zonghai/hospital_translation/IFT_Metrics/IFT_Metrics/data/bleu_chrf_score_DeepSeek-R1-Distill-Llama-8B_hyp.txt\tSegment 84\tscore: 0.7421\n",
      "/project/pi_hongyu_umass_edu/zonghai/hospital_translation/IFT_Metrics/IFT_Metrics/data/bleu_chrf_score_DeepSeek-R1-Distill-Llama-8B_hyp.txt\tSegment 85\tscore: 0.7511\n",
      "/project/pi_hongyu_umass_edu/zonghai/hospital_translation/IFT_Metrics/IFT_Metrics/data/bleu_chrf_score_DeepSeek-R1-Distill-Llama-8B_hyp.txt\tSegment 86\tscore: 0.6173\n",
      "/project/pi_hongyu_umass_edu/zonghai/hospital_translation/IFT_Metrics/IFT_Metrics/data/bleu_chrf_score_DeepSeek-R1-Distill-Llama-8B_hyp.txt\tSegment 87\tscore: 0.8173\n",
      "/project/pi_hongyu_umass_edu/zonghai/hospital_translation/IFT_Metrics/IFT_Metrics/data/bleu_chrf_score_DeepSeek-R1-Distill-Llama-8B_hyp.txt\tSegment 88\tscore: 0.6854\n",
      "/project/pi_hongyu_umass_edu/zonghai/hospital_translation/IFT_Metrics/IFT_Metrics/data/bleu_chrf_score_DeepSeek-R1-Distill-Llama-8B_hyp.txt\tSegment 89\tscore: 0.6511\n",
      "/project/pi_hongyu_umass_edu/zonghai/hospital_translation/IFT_Metrics/IFT_Metrics/data/bleu_chrf_score_DeepSeek-R1-Distill-Llama-8B_hyp.txt\tSegment 90\tscore: 0.6693\n",
      "/project/pi_hongyu_umass_edu/zonghai/hospital_translation/IFT_Metrics/IFT_Metrics/data/bleu_chrf_score_DeepSeek-R1-Distill-Llama-8B_hyp.txt\tSegment 91\tscore: 0.6026\n",
      "/project/pi_hongyu_umass_edu/zonghai/hospital_translation/IFT_Metrics/IFT_Metrics/data/bleu_chrf_score_DeepSeek-R1-Distill-Llama-8B_hyp.txt\tSegment 92\tscore: 0.6412\n",
      "/project/pi_hongyu_umass_edu/zonghai/hospital_translation/IFT_Metrics/IFT_Metrics/data/bleu_chrf_score_DeepSeek-R1-Distill-Llama-8B_hyp.txt\tSegment 93\tscore: 0.6679\n",
      "/project/pi_hongyu_umass_edu/zonghai/hospital_translation/IFT_Metrics/IFT_Metrics/data/bleu_chrf_score_DeepSeek-R1-Distill-Llama-8B_hyp.txt\tSegment 94\tscore: 0.7207\n",
      "/project/pi_hongyu_umass_edu/zonghai/hospital_translation/IFT_Metrics/IFT_Metrics/data/bleu_chrf_score_DeepSeek-R1-Distill-Llama-8B_hyp.txt\tSegment 95\tscore: 0.8181\n",
      "/project/pi_hongyu_umass_edu/zonghai/hospital_translation/IFT_Metrics/IFT_Metrics/data/bleu_chrf_score_DeepSeek-R1-Distill-Llama-8B_hyp.txt\tSegment 96\tscore: 0.7435\n",
      "/project/pi_hongyu_umass_edu/zonghai/hospital_translation/IFT_Metrics/IFT_Metrics/data/bleu_chrf_score_DeepSeek-R1-Distill-Llama-8B_hyp.txt\tSegment 97\tscore: 0.8630\n",
      "/project/pi_hongyu_umass_edu/zonghai/hospital_translation/IFT_Metrics/IFT_Metrics/data/bleu_chrf_score_DeepSeek-R1-Distill-Llama-8B_hyp.txt\tSegment 98\tscore: 0.6874\n",
      "/project/pi_hongyu_umass_edu/zonghai/hospital_translation/IFT_Metrics/IFT_Metrics/data/bleu_chrf_score_DeepSeek-R1-Distill-Llama-8B_hyp.txt\tSegment 99\tscore: 0.8427\n",
      "/project/pi_hongyu_umass_edu/zonghai/hospital_translation/IFT_Metrics/IFT_Metrics/data/bleu_chrf_score_DeepSeek-R1-Distill-Llama-8B_hyp.txt\tscore: 0.7270\n"
     ]
    }
   ],
   "source": [
    "matric = EvaluateMatric(r\"/project/pi_hongyu_umass_edu/zonghai/hospital_translation/IFT_Metrics/IFT_Metrics/data/bleu_chrf_score_DeepSeek-R1-Distill-Llama-8B.json\",generated=\"tran_spa\",target=\"original_spa\",original=\"original_eng\")\n",
    "# matric.evaluate(\"BLEURT\")\n",
    "# matric.evaluate(\"BERTSCORE\")\n",
    "matric.evaluate(\"COMET\")"
   ]
  },
  {
   "cell_type": "code",
   "execution_count": 37,
   "metadata": {},
   "outputs": [
    {
     "name": "stderr",
     "output_type": "stream",
     "text": [
      "2025-02-18 03:50:12.080200: I tensorflow/tsl/cuda/cudart_stub.cc:28] Could not find cuda drivers on your machine, GPU will not be used.\n",
      "2025-02-18 03:50:14.134987: I tensorflow/core/platform/cpu_feature_guard.cc:182] This TensorFlow binary is optimized to use available CPU instructions in performance-critical operations.\n",
      "To enable the following instructions: AVX2 AVX512F FMA, in other operations, rebuild TensorFlow with the appropriate compiler flags.\n",
      "2025-02-18 03:50:18.967165: W tensorflow/compiler/tf2tensorrt/utils/py_utils.cc:38] TF-TRT Warning: Could not find TensorRT\n",
      "Seed set to 1\n",
      "Fetching 5 files: 100%|██████████| 5/5 [00:00<00:00, 39494.39it/s]\n",
      "Lightning automatically upgraded your loaded checkpoint from v1.8.3.post1 to v2.4.0. To apply the upgrade to your files permanently, run `python -m pytorch_lightning.utilities.upgrade_checkpoint ../../../../../../home/lianfu_umass_edu/.cache/huggingface/hub/models--Unbabel--wmt22-comet-da/snapshots/f49d328952c3470eff6bb6f545d62bfdb6e66304/checkpoints/model.ckpt`\n",
      "Encoder model frozen.\n",
      "/home/lianfu_umass_edu/.conda/envs/lianfu/lib/python3.8/site-packages/pytorch_lightning/core/saving.py:195: Found keys that are not in the model state dict but in the checkpoint: ['encoder.model.embeddings.position_ids']\n",
      "/home/lianfu_umass_edu/.conda/envs/lianfu/lib/python3.8/site-packages/torch/utils/data/dataloader.py:557: UserWarning: This DataLoader will create 2 worker processes in total. Our suggested max number of worker in current system is 1, which is smaller than what this DataLoader is going to create. Please be aware that excessive worker creation might get DataLoader running slow or even freeze, lower the worker number to avoid potential slowness/freeze if necessary.\n",
      "  warnings.warn(_create_warning_msg(\n",
      "/home/lianfu_umass_edu/.conda/envs/lianfu/lib/python3.8/site-packages/lightning_fabric/plugins/environments/slurm.py:204: The `srun` command is available on your system but is not used. HINT: If your intention is to run Lightning on SLURM, prepend your python command with `srun` like so: srun python3.8 /home/lianfu_umass_edu/.conda/envs/lianfu/bin/com ...\n",
      "GPU available: True (cuda), used: True\n",
      "TPU available: False, using: 0 TPU cores\n",
      "HPU available: False, using: 0 HPUs\n",
      "LOCAL_RANK: 0 - CUDA_VISIBLE_DEVICES: [0]\n",
      "/home/lianfu_umass_edu/.conda/envs/lianfu/lib/python3.8/site-packages/torch/utils/data/dataloader.py:557: UserWarning: This DataLoader will create 2 worker processes in total. Our suggested max number of worker in current system is 1, which is smaller than what this DataLoader is going to create. Please be aware that excessive worker creation might get DataLoader running slow or even freeze, lower the worker number to avoid potential slowness/freeze if necessary.\n",
      "  warnings.warn(_create_warning_msg(\n",
      "Predicting DataLoader 0: 100%|██████████| 7/7 [00:05<00:00,  1.17it/s]\n"
     ]
    },
    {
     "name": "stdout",
     "output_type": "stream",
     "text": [
      "/project/pi_hongyu_umass_edu/zonghai/hospital_translation/IFT_Metrics/IFT_Metrics/data/phi-4_without_finetune_hyp.txt\tSegment 0\tscore: 0.8100\n",
      "/project/pi_hongyu_umass_edu/zonghai/hospital_translation/IFT_Metrics/IFT_Metrics/data/phi-4_without_finetune_hyp.txt\tSegment 1\tscore: 0.7611\n",
      "/project/pi_hongyu_umass_edu/zonghai/hospital_translation/IFT_Metrics/IFT_Metrics/data/phi-4_without_finetune_hyp.txt\tSegment 2\tscore: 0.1751\n",
      "/project/pi_hongyu_umass_edu/zonghai/hospital_translation/IFT_Metrics/IFT_Metrics/data/phi-4_without_finetune_hyp.txt\tSegment 3\tscore: 0.1804\n",
      "/project/pi_hongyu_umass_edu/zonghai/hospital_translation/IFT_Metrics/IFT_Metrics/data/phi-4_without_finetune_hyp.txt\tSegment 4\tscore: 0.1724\n",
      "/project/pi_hongyu_umass_edu/zonghai/hospital_translation/IFT_Metrics/IFT_Metrics/data/phi-4_without_finetune_hyp.txt\tSegment 5\tscore: 0.2115\n",
      "/project/pi_hongyu_umass_edu/zonghai/hospital_translation/IFT_Metrics/IFT_Metrics/data/phi-4_without_finetune_hyp.txt\tSegment 6\tscore: 0.1500\n",
      "/project/pi_hongyu_umass_edu/zonghai/hospital_translation/IFT_Metrics/IFT_Metrics/data/phi-4_without_finetune_hyp.txt\tSegment 7\tscore: 0.7701\n",
      "/project/pi_hongyu_umass_edu/zonghai/hospital_translation/IFT_Metrics/IFT_Metrics/data/phi-4_without_finetune_hyp.txt\tSegment 8\tscore: 0.2634\n",
      "/project/pi_hongyu_umass_edu/zonghai/hospital_translation/IFT_Metrics/IFT_Metrics/data/phi-4_without_finetune_hyp.txt\tSegment 9\tscore: 0.2742\n",
      "/project/pi_hongyu_umass_edu/zonghai/hospital_translation/IFT_Metrics/IFT_Metrics/data/phi-4_without_finetune_hyp.txt\tSegment 10\tscore: 0.2225\n",
      "/project/pi_hongyu_umass_edu/zonghai/hospital_translation/IFT_Metrics/IFT_Metrics/data/phi-4_without_finetune_hyp.txt\tSegment 11\tscore: 0.2659\n",
      "/project/pi_hongyu_umass_edu/zonghai/hospital_translation/IFT_Metrics/IFT_Metrics/data/phi-4_without_finetune_hyp.txt\tSegment 12\tscore: 0.2524\n",
      "/project/pi_hongyu_umass_edu/zonghai/hospital_translation/IFT_Metrics/IFT_Metrics/data/phi-4_without_finetune_hyp.txt\tSegment 13\tscore: 0.1994\n",
      "/project/pi_hongyu_umass_edu/zonghai/hospital_translation/IFT_Metrics/IFT_Metrics/data/phi-4_without_finetune_hyp.txt\tSegment 14\tscore: 0.2498\n",
      "/project/pi_hongyu_umass_edu/zonghai/hospital_translation/IFT_Metrics/IFT_Metrics/data/phi-4_without_finetune_hyp.txt\tSegment 15\tscore: 0.2341\n",
      "/project/pi_hongyu_umass_edu/zonghai/hospital_translation/IFT_Metrics/IFT_Metrics/data/phi-4_without_finetune_hyp.txt\tSegment 16\tscore: 0.1808\n",
      "/project/pi_hongyu_umass_edu/zonghai/hospital_translation/IFT_Metrics/IFT_Metrics/data/phi-4_without_finetune_hyp.txt\tSegment 17\tscore: 0.3859\n",
      "/project/pi_hongyu_umass_edu/zonghai/hospital_translation/IFT_Metrics/IFT_Metrics/data/phi-4_without_finetune_hyp.txt\tSegment 18\tscore: 0.4733\n",
      "/project/pi_hongyu_umass_edu/zonghai/hospital_translation/IFT_Metrics/IFT_Metrics/data/phi-4_without_finetune_hyp.txt\tSegment 19\tscore: 0.2010\n",
      "/project/pi_hongyu_umass_edu/zonghai/hospital_translation/IFT_Metrics/IFT_Metrics/data/phi-4_without_finetune_hyp.txt\tSegment 20\tscore: 0.4218\n",
      "/project/pi_hongyu_umass_edu/zonghai/hospital_translation/IFT_Metrics/IFT_Metrics/data/phi-4_without_finetune_hyp.txt\tSegment 21\tscore: 0.7133\n",
      "/project/pi_hongyu_umass_edu/zonghai/hospital_translation/IFT_Metrics/IFT_Metrics/data/phi-4_without_finetune_hyp.txt\tSegment 22\tscore: 0.5620\n",
      "/project/pi_hongyu_umass_edu/zonghai/hospital_translation/IFT_Metrics/IFT_Metrics/data/phi-4_without_finetune_hyp.txt\tSegment 23\tscore: 0.3564\n",
      "/project/pi_hongyu_umass_edu/zonghai/hospital_translation/IFT_Metrics/IFT_Metrics/data/phi-4_without_finetune_hyp.txt\tSegment 24\tscore: 0.2467\n",
      "/project/pi_hongyu_umass_edu/zonghai/hospital_translation/IFT_Metrics/IFT_Metrics/data/phi-4_without_finetune_hyp.txt\tSegment 25\tscore: 0.3535\n",
      "/project/pi_hongyu_umass_edu/zonghai/hospital_translation/IFT_Metrics/IFT_Metrics/data/phi-4_without_finetune_hyp.txt\tSegment 26\tscore: 0.3675\n",
      "/project/pi_hongyu_umass_edu/zonghai/hospital_translation/IFT_Metrics/IFT_Metrics/data/phi-4_without_finetune_hyp.txt\tSegment 27\tscore: 0.2609\n",
      "/project/pi_hongyu_umass_edu/zonghai/hospital_translation/IFT_Metrics/IFT_Metrics/data/phi-4_without_finetune_hyp.txt\tSegment 28\tscore: 0.3437\n",
      "/project/pi_hongyu_umass_edu/zonghai/hospital_translation/IFT_Metrics/IFT_Metrics/data/phi-4_without_finetune_hyp.txt\tSegment 29\tscore: 0.2893\n",
      "/project/pi_hongyu_umass_edu/zonghai/hospital_translation/IFT_Metrics/IFT_Metrics/data/phi-4_without_finetune_hyp.txt\tSegment 30\tscore: 0.2334\n",
      "/project/pi_hongyu_umass_edu/zonghai/hospital_translation/IFT_Metrics/IFT_Metrics/data/phi-4_without_finetune_hyp.txt\tSegment 31\tscore: 0.4010\n",
      "/project/pi_hongyu_umass_edu/zonghai/hospital_translation/IFT_Metrics/IFT_Metrics/data/phi-4_without_finetune_hyp.txt\tSegment 32\tscore: 0.4307\n",
      "/project/pi_hongyu_umass_edu/zonghai/hospital_translation/IFT_Metrics/IFT_Metrics/data/phi-4_without_finetune_hyp.txt\tSegment 33\tscore: 0.7420\n",
      "/project/pi_hongyu_umass_edu/zonghai/hospital_translation/IFT_Metrics/IFT_Metrics/data/phi-4_without_finetune_hyp.txt\tSegment 34\tscore: 0.1996\n",
      "/project/pi_hongyu_umass_edu/zonghai/hospital_translation/IFT_Metrics/IFT_Metrics/data/phi-4_without_finetune_hyp.txt\tSegment 35\tscore: 0.4331\n",
      "/project/pi_hongyu_umass_edu/zonghai/hospital_translation/IFT_Metrics/IFT_Metrics/data/phi-4_without_finetune_hyp.txt\tSegment 36\tscore: 0.1605\n",
      "/project/pi_hongyu_umass_edu/zonghai/hospital_translation/IFT_Metrics/IFT_Metrics/data/phi-4_without_finetune_hyp.txt\tSegment 37\tscore: 0.4866\n",
      "/project/pi_hongyu_umass_edu/zonghai/hospital_translation/IFT_Metrics/IFT_Metrics/data/phi-4_without_finetune_hyp.txt\tSegment 38\tscore: 0.1962\n",
      "/project/pi_hongyu_umass_edu/zonghai/hospital_translation/IFT_Metrics/IFT_Metrics/data/phi-4_without_finetune_hyp.txt\tSegment 39\tscore: 0.1800\n",
      "/project/pi_hongyu_umass_edu/zonghai/hospital_translation/IFT_Metrics/IFT_Metrics/data/phi-4_without_finetune_hyp.txt\tSegment 40\tscore: 0.1713\n",
      "/project/pi_hongyu_umass_edu/zonghai/hospital_translation/IFT_Metrics/IFT_Metrics/data/phi-4_without_finetune_hyp.txt\tSegment 41\tscore: 0.4664\n",
      "/project/pi_hongyu_umass_edu/zonghai/hospital_translation/IFT_Metrics/IFT_Metrics/data/phi-4_without_finetune_hyp.txt\tSegment 42\tscore: 0.1646\n",
      "/project/pi_hongyu_umass_edu/zonghai/hospital_translation/IFT_Metrics/IFT_Metrics/data/phi-4_without_finetune_hyp.txt\tSegment 43\tscore: 0.1672\n",
      "/project/pi_hongyu_umass_edu/zonghai/hospital_translation/IFT_Metrics/IFT_Metrics/data/phi-4_without_finetune_hyp.txt\tSegment 44\tscore: 0.6546\n",
      "/project/pi_hongyu_umass_edu/zonghai/hospital_translation/IFT_Metrics/IFT_Metrics/data/phi-4_without_finetune_hyp.txt\tSegment 45\tscore: 0.4631\n",
      "/project/pi_hongyu_umass_edu/zonghai/hospital_translation/IFT_Metrics/IFT_Metrics/data/phi-4_without_finetune_hyp.txt\tSegment 46\tscore: 0.5076\n",
      "/project/pi_hongyu_umass_edu/zonghai/hospital_translation/IFT_Metrics/IFT_Metrics/data/phi-4_without_finetune_hyp.txt\tSegment 47\tscore: 0.1780\n",
      "/project/pi_hongyu_umass_edu/zonghai/hospital_translation/IFT_Metrics/IFT_Metrics/data/phi-4_without_finetune_hyp.txt\tSegment 48\tscore: 0.8287\n",
      "/project/pi_hongyu_umass_edu/zonghai/hospital_translation/IFT_Metrics/IFT_Metrics/data/phi-4_without_finetune_hyp.txt\tSegment 49\tscore: 0.8340\n",
      "/project/pi_hongyu_umass_edu/zonghai/hospital_translation/IFT_Metrics/IFT_Metrics/data/phi-4_without_finetune_hyp.txt\tSegment 50\tscore: 0.1758\n",
      "/project/pi_hongyu_umass_edu/zonghai/hospital_translation/IFT_Metrics/IFT_Metrics/data/phi-4_without_finetune_hyp.txt\tSegment 51\tscore: 0.1805\n",
      "/project/pi_hongyu_umass_edu/zonghai/hospital_translation/IFT_Metrics/IFT_Metrics/data/phi-4_without_finetune_hyp.txt\tSegment 52\tscore: 0.1386\n",
      "/project/pi_hongyu_umass_edu/zonghai/hospital_translation/IFT_Metrics/IFT_Metrics/data/phi-4_without_finetune_hyp.txt\tSegment 53\tscore: 0.1599\n",
      "/project/pi_hongyu_umass_edu/zonghai/hospital_translation/IFT_Metrics/IFT_Metrics/data/phi-4_without_finetune_hyp.txt\tSegment 54\tscore: 0.1710\n",
      "/project/pi_hongyu_umass_edu/zonghai/hospital_translation/IFT_Metrics/IFT_Metrics/data/phi-4_without_finetune_hyp.txt\tSegment 55\tscore: 0.1824\n",
      "/project/pi_hongyu_umass_edu/zonghai/hospital_translation/IFT_Metrics/IFT_Metrics/data/phi-4_without_finetune_hyp.txt\tSegment 56\tscore: 0.6897\n",
      "/project/pi_hongyu_umass_edu/zonghai/hospital_translation/IFT_Metrics/IFT_Metrics/data/phi-4_without_finetune_hyp.txt\tSegment 57\tscore: 0.7294\n",
      "/project/pi_hongyu_umass_edu/zonghai/hospital_translation/IFT_Metrics/IFT_Metrics/data/phi-4_without_finetune_hyp.txt\tSegment 58\tscore: 0.7485\n",
      "/project/pi_hongyu_umass_edu/zonghai/hospital_translation/IFT_Metrics/IFT_Metrics/data/phi-4_without_finetune_hyp.txt\tSegment 59\tscore: 0.1751\n",
      "/project/pi_hongyu_umass_edu/zonghai/hospital_translation/IFT_Metrics/IFT_Metrics/data/phi-4_without_finetune_hyp.txt\tSegment 60\tscore: 0.5021\n",
      "/project/pi_hongyu_umass_edu/zonghai/hospital_translation/IFT_Metrics/IFT_Metrics/data/phi-4_without_finetune_hyp.txt\tSegment 61\tscore: 0.1517\n",
      "/project/pi_hongyu_umass_edu/zonghai/hospital_translation/IFT_Metrics/IFT_Metrics/data/phi-4_without_finetune_hyp.txt\tSegment 62\tscore: 0.8140\n",
      "/project/pi_hongyu_umass_edu/zonghai/hospital_translation/IFT_Metrics/IFT_Metrics/data/phi-4_without_finetune_hyp.txt\tSegment 63\tscore: 0.7558\n",
      "/project/pi_hongyu_umass_edu/zonghai/hospital_translation/IFT_Metrics/IFT_Metrics/data/phi-4_without_finetune_hyp.txt\tSegment 64\tscore: 0.7999\n",
      "/project/pi_hongyu_umass_edu/zonghai/hospital_translation/IFT_Metrics/IFT_Metrics/data/phi-4_without_finetune_hyp.txt\tSegment 65\tscore: 0.5168\n",
      "/project/pi_hongyu_umass_edu/zonghai/hospital_translation/IFT_Metrics/IFT_Metrics/data/phi-4_without_finetune_hyp.txt\tSegment 66\tscore: 0.7255\n",
      "/project/pi_hongyu_umass_edu/zonghai/hospital_translation/IFT_Metrics/IFT_Metrics/data/phi-4_without_finetune_hyp.txt\tSegment 67\tscore: 0.1574\n",
      "/project/pi_hongyu_umass_edu/zonghai/hospital_translation/IFT_Metrics/IFT_Metrics/data/phi-4_without_finetune_hyp.txt\tSegment 68\tscore: 0.8414\n",
      "/project/pi_hongyu_umass_edu/zonghai/hospital_translation/IFT_Metrics/IFT_Metrics/data/phi-4_without_finetune_hyp.txt\tSegment 69\tscore: 0.1493\n",
      "/project/pi_hongyu_umass_edu/zonghai/hospital_translation/IFT_Metrics/IFT_Metrics/data/phi-4_without_finetune_hyp.txt\tSegment 70\tscore: 0.8298\n",
      "/project/pi_hongyu_umass_edu/zonghai/hospital_translation/IFT_Metrics/IFT_Metrics/data/phi-4_without_finetune_hyp.txt\tSegment 71\tscore: 0.6798\n",
      "/project/pi_hongyu_umass_edu/zonghai/hospital_translation/IFT_Metrics/IFT_Metrics/data/phi-4_without_finetune_hyp.txt\tSegment 72\tscore: 0.7519\n",
      "/project/pi_hongyu_umass_edu/zonghai/hospital_translation/IFT_Metrics/IFT_Metrics/data/phi-4_without_finetune_hyp.txt\tSegment 73\tscore: 0.1545\n",
      "/project/pi_hongyu_umass_edu/zonghai/hospital_translation/IFT_Metrics/IFT_Metrics/data/phi-4_without_finetune_hyp.txt\tSegment 74\tscore: 0.6658\n",
      "/project/pi_hongyu_umass_edu/zonghai/hospital_translation/IFT_Metrics/IFT_Metrics/data/phi-4_without_finetune_hyp.txt\tSegment 75\tscore: 0.7657\n",
      "/project/pi_hongyu_umass_edu/zonghai/hospital_translation/IFT_Metrics/IFT_Metrics/data/phi-4_without_finetune_hyp.txt\tSegment 76\tscore: 0.1387\n",
      "/project/pi_hongyu_umass_edu/zonghai/hospital_translation/IFT_Metrics/IFT_Metrics/data/phi-4_without_finetune_hyp.txt\tSegment 77\tscore: 0.7627\n",
      "/project/pi_hongyu_umass_edu/zonghai/hospital_translation/IFT_Metrics/IFT_Metrics/data/phi-4_without_finetune_hyp.txt\tSegment 78\tscore: 0.6259\n",
      "/project/pi_hongyu_umass_edu/zonghai/hospital_translation/IFT_Metrics/IFT_Metrics/data/phi-4_without_finetune_hyp.txt\tSegment 79\tscore: 0.7017\n",
      "/project/pi_hongyu_umass_edu/zonghai/hospital_translation/IFT_Metrics/IFT_Metrics/data/phi-4_without_finetune_hyp.txt\tSegment 80\tscore: 0.7711\n",
      "/project/pi_hongyu_umass_edu/zonghai/hospital_translation/IFT_Metrics/IFT_Metrics/data/phi-4_without_finetune_hyp.txt\tSegment 81\tscore: 0.7517\n",
      "/project/pi_hongyu_umass_edu/zonghai/hospital_translation/IFT_Metrics/IFT_Metrics/data/phi-4_without_finetune_hyp.txt\tSegment 82\tscore: 0.6993\n",
      "/project/pi_hongyu_umass_edu/zonghai/hospital_translation/IFT_Metrics/IFT_Metrics/data/phi-4_without_finetune_hyp.txt\tSegment 83\tscore: 0.6723\n",
      "/project/pi_hongyu_umass_edu/zonghai/hospital_translation/IFT_Metrics/IFT_Metrics/data/phi-4_without_finetune_hyp.txt\tSegment 84\tscore: 0.7373\n",
      "/project/pi_hongyu_umass_edu/zonghai/hospital_translation/IFT_Metrics/IFT_Metrics/data/phi-4_without_finetune_hyp.txt\tSegment 85\tscore: 0.7189\n",
      "/project/pi_hongyu_umass_edu/zonghai/hospital_translation/IFT_Metrics/IFT_Metrics/data/phi-4_without_finetune_hyp.txt\tSegment 86\tscore: 0.6035\n",
      "/project/pi_hongyu_umass_edu/zonghai/hospital_translation/IFT_Metrics/IFT_Metrics/data/phi-4_without_finetune_hyp.txt\tSegment 87\tscore: 0.1652\n",
      "/project/pi_hongyu_umass_edu/zonghai/hospital_translation/IFT_Metrics/IFT_Metrics/data/phi-4_without_finetune_hyp.txt\tSegment 88\tscore: 0.6871\n",
      "/project/pi_hongyu_umass_edu/zonghai/hospital_translation/IFT_Metrics/IFT_Metrics/data/phi-4_without_finetune_hyp.txt\tSegment 89\tscore: 0.7343\n",
      "/project/pi_hongyu_umass_edu/zonghai/hospital_translation/IFT_Metrics/IFT_Metrics/data/phi-4_without_finetune_hyp.txt\tSegment 90\tscore: 0.6917\n",
      "/project/pi_hongyu_umass_edu/zonghai/hospital_translation/IFT_Metrics/IFT_Metrics/data/phi-4_without_finetune_hyp.txt\tSegment 91\tscore: 0.5734\n",
      "/project/pi_hongyu_umass_edu/zonghai/hospital_translation/IFT_Metrics/IFT_Metrics/data/phi-4_without_finetune_hyp.txt\tSegment 92\tscore: 0.6790\n",
      "/project/pi_hongyu_umass_edu/zonghai/hospital_translation/IFT_Metrics/IFT_Metrics/data/phi-4_without_finetune_hyp.txt\tSegment 93\tscore: 0.6159\n",
      "/project/pi_hongyu_umass_edu/zonghai/hospital_translation/IFT_Metrics/IFT_Metrics/data/phi-4_without_finetune_hyp.txt\tSegment 94\tscore: 0.7420\n",
      "/project/pi_hongyu_umass_edu/zonghai/hospital_translation/IFT_Metrics/IFT_Metrics/data/phi-4_without_finetune_hyp.txt\tSegment 95\tscore: 0.2009\n",
      "/project/pi_hongyu_umass_edu/zonghai/hospital_translation/IFT_Metrics/IFT_Metrics/data/phi-4_without_finetune_hyp.txt\tSegment 96\tscore: 0.3659\n",
      "/project/pi_hongyu_umass_edu/zonghai/hospital_translation/IFT_Metrics/IFT_Metrics/data/phi-4_without_finetune_hyp.txt\tSegment 97\tscore: 0.6350\n",
      "/project/pi_hongyu_umass_edu/zonghai/hospital_translation/IFT_Metrics/IFT_Metrics/data/phi-4_without_finetune_hyp.txt\tSegment 98\tscore: 0.7761\n",
      "/project/pi_hongyu_umass_edu/zonghai/hospital_translation/IFT_Metrics/IFT_Metrics/data/phi-4_without_finetune_hyp.txt\tSegment 99\tscore: 0.1935\n",
      "/project/pi_hongyu_umass_edu/zonghai/hospital_translation/IFT_Metrics/IFT_Metrics/data/phi-4_without_finetune_hyp.txt\tscore: 0.4510\n"
     ]
    }
   ],
   "source": [
    "matric = EvaluateMatric(\"/project/pi_hongyu_umass_edu/zonghai/hospital_translation/IFT_Metrics/IFT_Metrics/data/phi-4_without_finetune.json\",generated=\"translated_spanish\",target=\"original_spanish\",original=\"original_english\")\n",
    "# matric.evaluate(\"BLEURT\")\n",
    "matric.evaluate(\"COMET\")\n",
    "# matric.evaluate(\"ROUGE\")\n",
    "# matric.evaluate(\"BLEU\")\n",
    "# matric.evaluate(\"BERTSCORE\")"
   ]
  }
 ],
 "metadata": {
  "kernelspec": {
   "display_name": "Python 3",
   "language": "python",
   "name": "python3"
  },
  "language_info": {
   "codemirror_mode": {
    "name": "ipython",
    "version": 3
   },
   "file_extension": ".py",
   "mimetype": "text/x-python",
   "name": "python",
   "nbconvert_exporter": "python",
   "pygments_lexer": "ipython3",
   "version": "3.8.20"
  }
 },
 "nbformat": 4,
 "nbformat_minor": 2
}
