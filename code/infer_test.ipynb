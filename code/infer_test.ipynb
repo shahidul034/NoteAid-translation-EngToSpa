{
 "cells": [
  {
   "cell_type": "code",
   "execution_count": null,
   "metadata": {},
   "outputs": [],
   "source": [
    "from utils import compute_bleu_chrf\n",
    "import json\n",
    "import tqdm\n",
    "import os\n",
    "# os.environ[\"CUDA_VISIBLE_DEVICES\"] = \"2\"\n",
    "from unsloth import FastLanguageModel\n",
    "file_path = \"/home/mshahidul/project1/all_tran_data/dataset/Sampled_100_MedlinePlus_eng_spanish_pair.json\"\n",
    "with open(file_path, 'r', encoding='utf-8') as json_file:\n",
    "    original_file = json.load(json_file)\n",
    "results_file_path = \"/home/mshahidul/project1/results_new/Medline/medlineplus_gpt4_mini_COD_back_translation.json\"\n",
    "with open(results_file_path, 'r', encoding='utf-8') as json_file:\n",
    "    results_data = json.load(json_file)\n",
    "\n",
    "sentence_to_prompt = {item['Original_English_sentence']: item['COD_prompt'] for item in results_data}\n",
    "def find_cod_prompt(english_sentence):\n",
    "    return sentence_to_prompt.get(english_sentence, \"Prompt not found\")\n",
    "max_seq_length = 2048 # Choose any! We auto support RoPE Scaling internally!\n",
    "dtype = None # None for auto detection. Float16 for Tesla T4, V100, Bfloat16 for Ampere+\n",
    "load_in_4bit = True # Use 4bit quantization to reduce memory usage. Can be False.\n",
    "model_name=\"unsloth/Qwen2.5-14B-Instruct\"\n",
    "model, tokenizer = FastLanguageModel.from_pretrained(\n",
    "    model_name = model_name,\n",
    "    max_seq_length = max_seq_length,\n",
    "    dtype = dtype,\n",
    "    load_in_4bit = False)\n",
    "\n",
    "from unsloth.chat_templates import get_chat_template\n",
    "\n",
    "tokenizer = get_chat_template(\n",
    "    tokenizer,\n",
    "    chat_template = \"qwen-2.5\",\n",
    ")\n",
    "FastLanguageModel.for_inference(model) # Enable native 2x faster inference\n",
    "# exract for qwen2.5-3b/7b-instruct\n",
    "import re\n",
    "def extract_translation(text):\n",
    "    match = re.search(r\"Spanish: (.*?)<\\|im_end\\|>\", text)\n",
    "    \n",
    "    if match:\n",
    "        extracted_text = match.group(1)\n",
    "        return extracted_text\n",
    "    else:\n",
    "        text=text.split(\"\\n\")\n",
    "        text=text[len(text)-1]\n",
    "        text=text.split(\"<|im_end|>\")[0]\n",
    "        return text\n",
    "    \n"
   ]
  },
  {
   "cell_type": "code",
   "execution_count": null,
   "metadata": {},
   "outputs": [],
   "source": [
    "info_file_path = \"/home/mshahidul/project1/all_tran_data/dataset/medlineplus_info.json\"\n",
    "with open(info_file_path, 'r', encoding='utf-8') as json_file:\n",
    "    info_data = json.load(json_file)\n",
    "   \n",
    "sentence_to_synonyms = {item['Original_English_sentence']: item['synonyms'] for item in info_data}\n",
    "\n",
    "   \n",
    "def find_synonyms(english_sentence):\n",
    "    return sentence_to_synonyms.get(english_sentence, \"Synonyms not found\")"
   ]
  },
  {
   "cell_type": "code",
   "execution_count": null,
   "metadata": {},
   "outputs": [],
   "source": [
    "def inference(text):\n",
    "    messages = [{\"role\": \"user\", \"content\": f\"{find_cod_prompt(text)} Using above context translate the input into English to Spanish: \\n\\nEnglish: {text}\\n\\nSpanish:\"},]\n",
    "    inputs = tokenizer.apply_chat_template(messages,tokenize = True,add_generation_prompt = True,return_tensors = \"pt\",).to(\"cuda\")\n",
    "    outputs = model.generate(input_ids = inputs, max_new_tokens = 64, use_cache = True,temperature = 1.0, min_p = 1.0)\n",
    "    return extract_translation(tokenizer.batch_decode(outputs)[0])\n",
    "# {find_synonyms(text)}\\nUsing above context {find_cod_prompt(text)}\\n\n",
    "# print(tokenizer.batch_decode(outputs)[0])\n",
    "# print(extract_translation(tokenizer.batch_decode(outputs)[0]))"
   ]
  },
  {
   "cell_type": "code",
   "execution_count": null,
   "metadata": {},
   "outputs": [],
   "source": [
    "inference(original_file[0]['english'])"
   ]
  },
  {
   "cell_type": "code",
   "execution_count": null,
   "metadata": {},
   "outputs": [],
   "source": [
    "find_synonyms(original_file[0]['english'])"
   ]
  },
  {
   "cell_type": "code",
   "execution_count": null,
   "metadata": {},
   "outputs": [],
   "source": [
    "total_score=[]\n",
    "for line in tqdm.tqdm(original_file):\n",
    "    try:\n",
    "        hypothesis_text = inference(line['english'])\n",
    "        reference_text = line['spanish']\n",
    "        score=compute_bleu_chrf(reference_text, hypothesis_text)  \n",
    "        total_score.append({\n",
    "            \"original_english\": line['english'],\n",
    "            \"original_spanish\": line['spanish'],\n",
    "            \"translated_spanish\": hypothesis_text,\n",
    "            \"bleu_score\": score\n",
    "        })\n",
    "    except Exception as e:\n",
    "        print(e)\n",
    "        continue"
   ]
  },
  {
   "cell_type": "code",
   "execution_count": null,
   "metadata": {},
   "outputs": [],
   "source": [
    "tt=model_name.split(\"/\")[1]\n",
    "avg_bleu_score = sum([x['bleu_score']['bleu_score'] for x in total_score]) / len(total_score)\n",
    "print(f\"{tt} without finetune(COD) --> Average BLEU Score: {avg_bleu_score:.4f}\")"
   ]
  },
  {
   "cell_type": "code",
   "execution_count": null,
   "metadata": {},
   "outputs": [],
   "source": []
  }
 ],
 "metadata": {
  "kernelspec": {
   "display_name": "unsloth_env",
   "language": "python",
   "name": "python3"
  },
  "language_info": {
   "codemirror_mode": {
    "name": "ipython",
    "version": 3
   },
   "file_extension": ".py",
   "mimetype": "text/x-python",
   "name": "python",
   "nbconvert_exporter": "python",
   "pygments_lexer": "ipython3",
   "version": "3.11.11"
  }
 },
 "nbformat": 4,
 "nbformat_minor": 2
}
