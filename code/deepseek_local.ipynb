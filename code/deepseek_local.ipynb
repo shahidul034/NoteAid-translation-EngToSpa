{
 "cells": [
  {
   "cell_type": "code",
   "execution_count": 1,
   "metadata": {},
   "outputs": [
    {
     "name": "stderr",
     "output_type": "stream",
     "text": [
      "/home/mshahidul/miniconda3/envs/unsloth_env/lib/python3.11/site-packages/tqdm/auto.py:21: TqdmWarning: IProgress not found. Please update jupyter and ipywidgets. See https://ipywidgets.readthedocs.io/en/stable/user_install.html\n",
      "  from .autonotebook import tqdm as notebook_tqdm\n",
      "Fetching 3 files: 100%|██████████| 3/3 [12:25<00:00, 248.60s/it]\n"
     ]
    },
    {
     "data": {
      "text/plain": [
       "'/raid/data/home_beta/mshahidul/project1/code/DeepSeek-R1-GGUF'"
      ]
     },
     "execution_count": 1,
     "metadata": {},
     "output_type": "execute_result"
    }
   ],
   "source": [
    "# pip install huggingface_hub hf_transfer\n",
    "# import os # Optional for faster downloading\n",
    "# os.environ[\"HF_HUB_ENABLE_HF_TRANSFER\"] = \"1\"\n",
    "cache_directory = \"/data/data_user_alpha/public_models\" \n",
    "from huggingface_hub import snapshot_download\n",
    "snapshot_download(\n",
    "  repo_id = \"unsloth/DeepSeek-R1-GGUF\",\n",
    "  local_dir = \"DeepSeek-R1-GGUF\",\n",
    "  allow_patterns = [\"*UD-IQ1_S*\"], # Select quant type UD-IQ1_S for 1.58bit\n",
    ")"
   ]
  },
  {
   "cell_type": "code",
   "execution_count": null,
   "metadata": {},
   "outputs": [],
   "source": [
    "  ./llama.cpp/llama-cli \\\n",
    "    --model /home/mshahidul/project1/code/DeepSeek-R1-GGUF/DeepSeek-R1-UD-IQ1_S/DeepSeek-R1-UD-IQ1_S-00001-of-00003.gguf \\\n",
    "    --cache-type-k q4_0 \\\n",
    "    --threads 12 -no-cnv --prio 2 \\\n",
    "    --n-gpu-layers 61 \\\n",
    "    --temp 0.6 \\\n",
    "    --ctx-size 8192 \\\n",
    "    --seed 3407 \\\n",
    "    --prompt \"<｜User｜>How to finetune a LLM.<｜Assistant｜>\""
   ]
  }
 ],
 "metadata": {
  "kernelspec": {
   "display_name": "unsloth_env",
   "language": "python",
   "name": "python3"
  },
  "language_info": {
   "codemirror_mode": {
    "name": "ipython",
    "version": 3
   },
   "file_extension": ".py",
   "mimetype": "text/x-python",
   "name": "python",
   "nbconvert_exporter": "python",
   "pygments_lexer": "ipython3",
   "version": "3.11.11"
  }
 },
 "nbformat": 4,
 "nbformat_minor": 2
}
