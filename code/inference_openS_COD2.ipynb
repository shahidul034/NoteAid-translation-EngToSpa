{
 "cells": [
  {
   "cell_type": "code",
   "execution_count": null,
   "metadata": {},
   "outputs": [],
   "source": [
    "from utils import back_translate\n",
    "from utils import compute_bleu_chrf\n",
    "import json\n",
    "import os\n",
    "os.environ[\"CUDA_VISIBLE_DEVICES\"] = \"3\"\n",
    "file_path = \"/home/mshahidul/project1/all_tran_data/dataset/Sampled_100_MedlinePlus_eng_spanish_pair.json\"\n",
    "with open(file_path, 'r', encoding='utf-8') as json_file:\n",
    "    original_file = json.load(json_file)"
   ]
  },
  {
   "cell_type": "code",
   "execution_count": null,
   "metadata": {},
   "outputs": [],
   "source": [
    "translated_keywords[0]['sentence']"
   ]
  },
  {
   "cell_type": "code",
   "execution_count": null,
   "metadata": {},
   "outputs": [],
   "source": [
    "translated_keywords_path = \"/home/mshahidul/project1/all_tran_data/prompt_info/translated_keywords_gpt4o_mini.json\"\n",
    "with open(translated_keywords_path, 'r', encoding='utf-8') as translated_keywords_file:\n",
    "    translated_keywords = json.load(translated_keywords_file)\n",
    "\n",
    "# trans=translated_keywords[0]['translated_keywords']\n",
    "def chain_of_dict(trans):\n",
    "    chain=[]\n",
    "    for x in trans:\n",
    "        ordered_languages = [\"French\", \"Portuguese\", \"German\", \"Spanish\"]\n",
    "        formatted_translations = []\n",
    "        data=trans[x]\n",
    "        for lang in ordered_languages:\n",
    "            if lang in data:\n",
    "                formatted_translations.append(f\"'{x}' in {lang} is '{data[lang]}'\")\n",
    "        # print(formatted_translations)\n",
    "        chain.append(\", \".join(formatted_translations))\n",
    "    full_data = \". \".join(chain)\n",
    "    return full_data"
   ]
  },
  {
   "cell_type": "code",
   "execution_count": null,
   "metadata": {},
   "outputs": [],
   "source": [
    "\n",
    "alpaca_prompt = \"\"\"Below is an instruction that describes a task, paired with an input that provides further context. Write a response that appropriately completes the request.\n",
    "                    ### Instruction:\n",
    "                    {}\n",
    "\n",
    "                    ### Input:\n",
    "                    {}\n",
    "\n",
    "                    ### Response:\n",
    "                    {}\"\"\"\n",
    "max_seq_length=2048\n",
    "model_name = \"unsloth/Qwen2.5-14B-Instruct\"\n",
    "model_name2=model_name.split(\"/\")[1]\n",
    "from unsloth import FastLanguageModel\n",
    "model, tokenizer = FastLanguageModel.from_pretrained(\n",
    "        model_name = model_name, # YOUR MODEL YOU USED FOR TRAINING\n",
    "        max_seq_length = max_seq_length,\n",
    "        dtype = None,\n",
    "        load_in_4bit = False,\n",
    "    )\n",
    "FastLanguageModel.for_inference(model) # Enable native 2x faster inference"
   ]
  },
  {
   "cell_type": "code",
   "execution_count": null,
   "metadata": {},
   "outputs": [],
   "source": [
    "def inference_with_prompt(ques,trans):\n",
    "    # {find_synonyms(ques)}\\n\n",
    "    inputs = tokenizer(\n",
    "    [\n",
    "        alpaca_prompt.format(\n",
    "            f\"{chain_of_dict(trans)}\\nUse this context to translate the input into English to Spanish:\", # instruction\n",
    "            ques, # input\n",
    "            \"\", # output - leave this blank for generation!\n",
    "        )\n",
    "    ], return_tensors = \"pt\").to(\"cuda\")\n",
    "\n",
    "    outputs = model.generate(**inputs, max_new_tokens = 64, use_cache = True)\n",
    "    ans=tokenizer.batch_decode(outputs)\n",
    "    start_marker = '### Response:\\n'\n",
    "    end_marker = '<|end_of_text|>'\n",
    "\n",
    "    # Find the start and end positions\n",
    "    start_index = ans[0].find(start_marker) + len(start_marker)\n",
    "    end_index = ans[0].find(end_marker)\n",
    "    response = ans[0][start_index:end_index].strip()\n",
    "    return response.split(\"\\n\\n\")[0]"
   ]
  },
  {
   "cell_type": "code",
   "execution_count": null,
   "metadata": {},
   "outputs": [],
   "source": [
    "total_score=[]\n",
    "import tqdm\n",
    "for line in tqdm.tqdm(translated_keywords):\n",
    "    try:\n",
    "        spa_tran_prompt = inference_with_prompt(line['sentence'],line['translated_keywords'])\n",
    "        \n",
    "        reference_text = [line['spanish']]\n",
    "        hypothesis_text = spa_tran_prompt\n",
    "        score1=compute_bleu_chrf(reference_text, hypothesis_text)  \n",
    "\n",
    "\n",
    "        total_score.append({\n",
    "            \"Original_English_sentence\": line['english'],\n",
    "            \"Original_Spanish_sentence\": line['spanish'],\n",
    "            \"spanish_translation_prompt\": spa_tran_prompt,\n",
    "            \"scores_cod_prompt(bleu and chrf)\": score1,\n",
    "        })\n",
    "    except Exception as e:\n",
    "        print(f\"Error processing line: {line}\")\n",
    "        print(e)"
   ]
  },
  {
   "cell_type": "code",
   "execution_count": null,
   "metadata": {},
   "outputs": [],
   "source": []
  }
 ],
 "metadata": {
  "kernelspec": {
   "display_name": "unsloth_env",
   "language": "python",
   "name": "python3"
  },
  "language_info": {
   "codemirror_mode": {
    "name": "ipython",
    "version": 3
   },
   "file_extension": ".py",
   "mimetype": "text/x-python",
   "name": "python",
   "nbconvert_exporter": "python",
   "pygments_lexer": "ipython3",
   "version": "3.11.11"
  }
 },
 "nbformat": 4,
 "nbformat_minor": 2
}
