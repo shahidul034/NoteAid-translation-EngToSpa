{
 "cells": [
  {
   "cell_type": "code",
   "execution_count": 4,
   "metadata": {},
   "outputs": [
    {
     "name": "stdout",
     "output_type": "stream",
     "text": [
      "Synonyms: ['Strokes, Cardiovascular', 'Infarction of heart', 'infarcts myocardial', 'attacks hearts', 'Myocardial infarction (MI)', 'Cardiac infarction, NOS', 'attacking heart', 'infarctions myocardial', 'Myocardial infarction NOS', 'HEART ATTACK', 'MYOCARDIAL INFARCT', 'Myocardial infarction syndrome', 'cardiac infarction', 'attack hearts', 'attacks coronary', 'syndrome myocardial infarction', 'Heart attack, NOS', 'Attack - heart', 'ATTACK CORONARY', 'Cardiac infarct', 'Cardiovascular Strokes', 'Cardiovascular Stroke', 'heart attacks', 'Infarction;myocardial', 'Myocardial Infarction', 'MI', 'coronary attack', 'MI - Myocardial infarction', 'Infarction, Myocardial', 'cardiac; infarction', 'infarction; myocardial', 'Infarcts, Myocardial', 'Infarction;heart', 'Myocardial infarction (disorder)', 'Myocardial Infarcts', 'myocardial infarction (diagnosis)', 'AMI', 'Infarct, Myocardial', 'myocardial necrosis', 'Infarction of heart, NOS', 'Myocardial infarction, NOS', 'ATTACK HEART (NOS)', 'disorder infarction myocardial', 'Infarctions, Myocardial', 'mies', 'Stroke, Cardiovascular', 'Right ventricular infarction', 'HEART INFARCTION', 'INFARCT MYOCARDIAL', 'Myocardial Infarctions', 'Infarctions (Myocardial)']\n"
     ]
    }
   ],
   "source": [
    "import mysql.connector\n",
    "\n",
    "# Database configuration\n",
    "db_config = {\n",
    "    'host': '172.16.34.1',\n",
    "    'port': 3307,\n",
    "    'user': 'umls',\n",
    "    'password': 'umls',\n",
    "    'database': 'umls2024'\n",
    "}\n",
    "\n",
    "def get_synonyms(keyword):\n",
    "    try:\n",
    "        # Connect to the database\n",
    "        conn = mysql.connector.connect(**db_config)\n",
    "        cursor = conn.cursor()\n",
    "\n",
    "        # Step 1: Find CUI for the given keyword\n",
    "        cursor.execute(\"SELECT CUI FROM MRCONSO WHERE STR LIKE %s LIMIT 1\", (f\"%{keyword}%\",))\n",
    "        cuis = cursor.fetchall()\n",
    "\n",
    "        if not cuis:\n",
    "            print(\"No CUI found for the keyword.\")\n",
    "            return []\n",
    "\n",
    "        synonyms = set()\n",
    "\n",
    "        # Step 2: Retrieve synonyms for each CUI\n",
    "        for cui in cuis:\n",
    "            query_synonyms = \"\"\"\n",
    "            SELECT DISTINCT str FROM MRCONSO \n",
    "            WHERE cui = %s AND lat = 'ENG'\n",
    "            \"\"\"\n",
    "            cursor.execute(query_synonyms, (cui[0],))\n",
    "            synonyms.update([row[0] for row in cursor.fetchall()])\n",
    "\n",
    "        cursor.close()\n",
    "        conn.close()\n",
    "\n",
    "        return list(synonyms)\n",
    "\n",
    "    except mysql.connector.Error as err:\n",
    "        print(f\"Error: {err}\")\n",
    "        return []\n",
    "\n",
    "# Example usage\n",
    "keyword = \"heart attack\"\n",
    "synonyms = get_synonyms(keyword)\n",
    "print(\"Synonyms:\", synonyms)\n"
   ]
  },
  {
   "cell_type": "code",
   "execution_count": 2,
   "metadata": {},
   "outputs": [
    {
     "name": "stdout",
     "output_type": "stream",
     "text": [
      "Available tables: ['AMBIGLUI', 'AMBIGSUI', 'DELETEDCUI', 'DELETEDLUI', 'DELETEDSUI', 'MERGEDCUI', 'MERGEDLUI', 'MRAUI', 'MRCOLS', 'MRCONSO', 'MRCUI', 'MRDEF', 'MRDOC', 'MRFILES', 'MRHIER', 'MRHIST', 'MRMAP', 'MRRANK', 'MRREL', 'MRSAB', 'MRSAT', 'MRSMAP', 'MRSTY', 'MRXNS_ENG', 'MRXNW_ENG', 'MRXW_BAQ', 'MRXW_CHI', 'MRXW_CZE', 'MRXW_DAN', 'MRXW_DUT', 'MRXW_ENG', 'MRXW_EST', 'MRXW_FIN', 'MRXW_FRE', 'MRXW_GER', 'MRXW_GRE', 'MRXW_HEB', 'MRXW_HUN', 'MRXW_ITA', 'MRXW_JPN', 'MRXW_KOR', 'MRXW_LAV', 'MRXW_NOR', 'MRXW_POL', 'MRXW_POR', 'MRXW_RUS', 'MRXW_SCR', 'MRXW_SPA', 'MRXW_SWE', 'MRXW_TUR', 'testdata']\n"
     ]
    }
   ],
   "source": [
    "import mysql.connector\n",
    "\n",
    "db_config = {\n",
    "    'host': '172.16.34.1',\n",
    "    'port': 3307,\n",
    "    'user': 'umls',\n",
    "    'password': 'umls',\n",
    "    'database': 'umls2024'\n",
    "}\n",
    "\n",
    "try:\n",
    "    conn = mysql.connector.connect(**db_config)\n",
    "    cursor = conn.cursor()\n",
    "\n",
    "    cursor.execute(\"SHOW TABLES;\")\n",
    "    tables = cursor.fetchall()\n",
    "    \n",
    "    print(\"Available tables:\", [table[0] for table in tables])\n",
    "\n",
    "    cursor.close()\n",
    "    conn.close()\n",
    "except mysql.connector.Error as err:\n",
    "    print(f\"Error: {err}\")\n"
   ]
  }
 ],
 "metadata": {
  "kernelspec": {
   "display_name": "unsloth_env",
   "language": "python",
   "name": "python3"
  },
  "language_info": {
   "codemirror_mode": {
    "name": "ipython",
    "version": 3
   },
   "file_extension": ".py",
   "mimetype": "text/x-python",
   "name": "python",
   "nbconvert_exporter": "python",
   "pygments_lexer": "ipython3",
   "version": "3.11.11"
  }
 },
 "nbformat": 4,
 "nbformat_minor": 2
}
