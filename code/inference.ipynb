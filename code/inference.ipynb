{
 "cells": [
  {
   "cell_type": "code",
   "execution_count": 2,
   "metadata": {},
   "outputs": [],
   "source": [
    "from utils import back_translate\n",
    "from utils import compute_bleu_chrf\n",
    "import json\n",
    "file_path = \"/home/mshahidul/project1/all_tran_data/Sampled_100_MedlinePlus_eng_spanish_pair.json\"\n",
    "with open(file_path, 'r', encoding='utf-8') as json_file:\n",
    "    original_file = json.load(json_file)"
   ]
  },
  {
   "cell_type": "code",
   "execution_count": null,
   "metadata": {},
   "outputs": [
    {
     "name": "stdout",
     "output_type": "stream",
     "text": [
      "🦥 Unsloth: Will patch your computer to enable 2x faster free finetuning.\n",
      "🦥 Unsloth Zoo will now patch everything to make training faster!\n",
      "==((====))==  Unsloth 2024.12.4: Fast Qwen2 patching. Transformers:4.46.3.\n",
      "   \\\\   /|    GPU: Tesla V100-DGXS-32GB. Max memory: 31.727 GB. Platform: Linux.\n",
      "O^O/ \\_/ \\    Torch: 2.5.1. CUDA: 7.0. CUDA Toolkit: 12.1. Triton: 3.1.0\n",
      "\\        /    Bfloat16 = FALSE. FA [Xformers = 0.0.28.post3. FA2 = False]\n",
      " \"-____-\"     Free Apache license: http://github.com/unslothai/unsloth\n",
      "Unsloth: Fast downloading is enabled - ignore downloading bars which are red colored!\n"
     ]
    },
    {
     "name": "stderr",
     "output_type": "stream",
     "text": [
      "Downloading shards:  17%|█▋        | 1/6 [01:58<09:54, 118.97s/it]"
     ]
    }
   ],
   "source": [
    "\n",
    "alpaca_prompt = \"\"\"Below is an instruction that describes a task, paired with an input that provides further context. Write a response that appropriately completes the request.\n",
    "                    ### Instruction:\n",
    "                    {}\n",
    "\n",
    "                    ### Input:\n",
    "                    {}\n",
    "\n",
    "                    ### Response:\n",
    "                    {}\"\"\"\n",
    "max_seq_length=2048\n",
    "model_name = \"unsloth/DeepSeek-R1-Distill-Qwen-14B\"\n",
    "from unsloth import FastLanguageModel\n",
    "model, tokenizer = FastLanguageModel.from_pretrained(\n",
    "        model_name = model_name, # YOUR MODEL YOU USED FOR TRAINING\n",
    "        max_seq_length = max_seq_length,\n",
    "        dtype = None,\n",
    "        load_in_4bit = False,\n",
    "    )\n",
    "FastLanguageModel.for_inference(model) # Enable native 2x faster inference"
   ]
  },
  {
   "cell_type": "code",
   "execution_count": 3,
   "metadata": {},
   "outputs": [],
   "source": [
    "total_score=[]"
   ]
  },
  {
   "cell_type": "code",
   "execution_count": null,
   "metadata": {},
   "outputs": [],
   "source": [
    "# alpaca_prompt = Copied from above\n",
    "FastLanguageModel.for_inference(model) # Enable native 2x faster inference\n",
    "\n",
    "def inference(ques):\n",
    "    inputs = tokenizer(\n",
    "    [\n",
    "        alpaca_prompt.format(\n",
    "            \"Translate the input into English to Spanish:\", # instruction\n",
    "            ques, # input\n",
    "            \"\", # output - leave this blank for generation!\n",
    "        )\n",
    "    ], return_tensors = \"pt\").to(\"cuda\")\n",
    "\n",
    "    outputs = model.generate(**inputs, max_new_tokens = 64, use_cache = True)\n",
    "    ans=tokenizer.batch_decode(outputs)\n",
    "    start_marker = '### Response:\\n'\n",
    "    end_marker = '<|end_of_text|>'\n",
    "\n",
    "    # Find the start and end positions\n",
    "    start_index = ans[0].find(start_marker) + len(start_marker)\n",
    "    end_index = ans[0].find(end_marker)\n",
    "    response = ans[0][start_index:end_index].strip()\n",
    "    return response \n",
    "\n",
    "\n",
    "import tqdm\n",
    "for line in tqdm.tqdm(original_file):\n",
    "    hypothesis_text = inference(line['english'])\n",
    "    reference_text = line['spanish']\n",
    "    score=compute_bleu_chrf(reference_text, hypothesis_text)  \n",
    "    total_score.append({\n",
    "        \"original_english\": line['english'],\n",
    "        \"original_spanish\": line['spanish'],\n",
    "        \"translated_spanish\": hypothesis_text,\n",
    "        \"bleu_score\": score\n",
    "    })"
   ]
  },
  {
   "cell_type": "code",
   "execution_count": null,
   "metadata": {},
   "outputs": [],
   "source": [
    "tt=model_name.split(\"/\")[1]\n",
    "avg_bleu_score = sum([x['bleu_score']['bleu_score'] for x in total_score]) / len(total_score)\n",
    "\n",
    "print(f\"{tt} without finetune --> Average BLEU Score: {avg_bleu_score:.4f}\")"
   ]
  },
  {
   "cell_type": "code",
   "execution_count": null,
   "metadata": {},
   "outputs": [],
   "source": [
    "\n",
    "with open(f\"/home/mshahidul/project1/results/{tt}_without_finetune.json\", 'w', encoding='utf-8') as json_file:\n",
    "    json.dump(total_score, json_file, 9=False, indent=4)"
   ]
  }
 ],
 "metadata": {
  "kernelspec": {
   "display_name": "unsloth_env",
   "language": "python",
   "name": "python3"
  },
  "language_info": {
   "codemirror_mode": {
    "name": "ipython",
    "version": 3
   },
   "file_extension": ".py",
   "mimetype": "text/x-python",
   "name": "python",
   "nbconvert_exporter": "python",
   "pygments_lexer": "ipython3",
   "version": "3.11.11"
  }
 },
 "nbformat": 4,
 "nbformat_minor": 2
}
