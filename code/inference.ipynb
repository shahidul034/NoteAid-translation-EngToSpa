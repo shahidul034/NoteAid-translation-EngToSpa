{
 "cells": [
  {
   "cell_type": "code",
   "execution_count": 1,
   "metadata": {},
   "outputs": [],
   "source": [
    "from utils import back_translate\n",
    "from utils import compute_bleu_chrf\n",
    "path = \"/home/mshahidul/project1/data2/extracted_files/eng_spa_pairs/medlineplus_pairs.txt\"\n",
    "f = open(path, \"r\").read().split(\"\\n\")"
   ]
  },
  {
   "cell_type": "code",
   "execution_count": 4,
   "metadata": {},
   "outputs": [
    {
     "name": "stdout",
     "output_type": "stream",
     "text": [
      "🦥 Unsloth: Will patch your computer to enable 2x faster free finetuning.\n",
      "🦥 Unsloth Zoo will now patch everything to make training faster!\n",
      "==((====))==  Unsloth 2024.12.4: Fast Llama patching. Transformers:4.46.3.\n",
      "   \\\\   /|    GPU: Tesla V100-DGXS-32GB. Max memory: 31.727 GB. Platform: Linux.\n",
      "O^O/ \\_/ \\    Torch: 2.5.1. CUDA: 7.0. CUDA Toolkit: 12.1. Triton: 3.1.0\n",
      "\\        /    Bfloat16 = FALSE. FA [Xformers = 0.0.28.post3. FA2 = False]\n",
      " \"-____-\"     Free Apache license: http://github.com/unslothai/unsloth\n",
      "Unsloth: Fast downloading is enabled - ignore downloading bars which are red colored!\n"
     ]
    },
    {
     "name": "stderr",
     "output_type": "stream",
     "text": [
      "Loading checkpoint shards: 100%|██████████| 4/4 [00:06<00:00,  1.52s/it]\n",
      "Unsloth 2024.12.4 patched 32 layers with 32 QKV layers, 32 O layers and 32 MLP layers.\n"
     ]
    }
   ],
   "source": [
    "\n",
    "alpaca_prompt = \"\"\"Below is an instruction that describes a task, paired with an input that provides further context. Write a response that appropriately completes the request.\n",
    "                    ### Instruction:\n",
    "                    {}\n",
    "\n",
    "                    ### Input:\n",
    "                    {}\n",
    "\n",
    "                    ### Response:\n",
    "                    {}\"\"\"\n",
    "max_seq_length=2048\n",
    "from unsloth import FastLanguageModel\n",
    "model, tokenizer = FastLanguageModel.from_pretrained(\n",
    "        model_name = \"/home/mshahidul/project1/model/unsloth/DeepSeek-R1-Distill-Qwen-7B\", # YOUR MODEL YOU USED FOR TRAINING\n",
    "        max_seq_length = max_seq_length,\n",
    "        dtype = None,\n",
    "        load_in_4bit = False,\n",
    "    )\n",
    "FastLanguageModel.for_inference(model) # Enable native 2x faster inference"
   ]
  },
  {
   "cell_type": "code",
   "execution_count": 5,
   "metadata": {},
   "outputs": [],
   "source": [
    "ans_cal=[]"
   ]
  },
  {
   "cell_type": "code",
   "execution_count": 6,
   "metadata": {},
   "outputs": [
    {
     "name": "stderr",
     "output_type": "stream",
     "text": [
      "100%|██████████| 100/100 [03:40<00:00,  2.21s/it]\n"
     ]
    }
   ],
   "source": [
    "# alpaca_prompt = Copied from above\n",
    "FastLanguageModel.for_inference(model) # Enable native 2x faster inference\n",
    "\n",
    "def inference(ques):\n",
    "    inputs = tokenizer(\n",
    "    [\n",
    "        alpaca_prompt.format(\n",
    "            \"Translate the input into English to Spanish:\", # instruction\n",
    "            ques, # input\n",
    "            \"\", # output - leave this blank for generation!\n",
    "        )\n",
    "    ], return_tensors = \"pt\").to(\"cuda\")\n",
    "\n",
    "    outputs = model.generate(**inputs, max_new_tokens = 64, use_cache = True)\n",
    "    ans=tokenizer.batch_decode(outputs)\n",
    "    start_marker = '### Response:\\n'\n",
    "    end_marker = '<|end_of_text|>'\n",
    "\n",
    "    # Find the start and end positions\n",
    "    start_index = ans[0].find(start_marker) + len(start_marker)\n",
    "    end_index = ans[0].find(end_marker)\n",
    "    response = ans[0][start_index:end_index].strip()\n",
    "    return response \n",
    "\n",
    "# Extract the response\n",
    "import tqdm\n",
    "for x in tqdm.tqdm(f[:100]):\n",
    "    xx=x.split(\"\\t\")\n",
    "    hyp=inference(xx[0])\n",
    "    back_eng=back_translate(hyp)\n",
    "    score=compute_bleu_chrf(xx[0], back_eng)\n",
    "    ans_cal.append({\n",
    "        \"original_eng\":xx[0],\n",
    "        \"original_spa\":xx[1],\n",
    "        \"tran_spa\":hyp,\n",
    "        \"back_eng\":back_eng,\n",
    "        \"bleu_score\":score['bleu_score'],\n",
    "        \"chrf_score\":score['chrF++']\n",
    "    })"
   ]
  },
  {
   "cell_type": "code",
   "execution_count": 7,
   "metadata": {},
   "outputs": [
    {
     "name": "stdout",
     "output_type": "stream",
     "text": [
      "bleu score: 36.40244991412947, chrf++: 37.726370852652074\n"
     ]
    }
   ],
   "source": [
    "avg=0\n",
    "avg_chrf=0\n",
    "for x in ans_cal:\n",
    "    avg+=x['bleu_score']\n",
    "    avg_chrf+=x['chrf_score']\n",
    "avg/=len(ans_cal)\n",
    "avg_chrf/=len(ans_cal)\n",
    "print(f\"bleu score: {avg}, chrf++: {avg_chrf}\")"
   ]
  }
 ],
 "metadata": {
  "kernelspec": {
   "display_name": "unsloth_env",
   "language": "python",
   "name": "python3"
  },
  "language_info": {
   "codemirror_mode": {
    "name": "ipython",
    "version": 3
   },
   "file_extension": ".py",
   "mimetype": "text/x-python",
   "name": "python",
   "nbconvert_exporter": "python",
   "pygments_lexer": "ipython3",
   "version": "3.11.11"
  }
 },
 "nbformat": 4,
 "nbformat_minor": 2
}
