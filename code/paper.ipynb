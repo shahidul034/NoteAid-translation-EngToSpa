{
 "cells": [
  {
   "cell_type": "markdown",
   "metadata": {},
   "source": [
    "## Extract the keywords from the sentence"
   ]
  },
  {
   "cell_type": "code",
   "execution_count": null,
   "metadata": {},
   "outputs": [],
   "source": [
    "from langchain_huggingface.llms import HuggingFacePipeline\n",
    "import torch\n",
    "from transformers import AutoTokenizer, AutoModelForCausalLM,AutoModelForSeq2SeqLM\n",
    "model_name = \"princeton-nlp/gemma-2-9b-it-SimPO\"\n",
    "cache_directory = \"/data/data_user_alpha/public_models\"\n",
    "\n",
    "# Load model and tokenizer with optimization\n",
    "tokenizer = AutoTokenizer.from_pretrained(model_name, cache_dir=cache_directory)\n",
    "model = AutoModelForCausalLM.from_pretrained(\n",
    "    model_name,\n",
    "    cache_dir=cache_directory,\n",
    "    torch_dtype=torch.float16,\n",
    "    device_map=\"auto\"\n",
    ")\n",
    "# Instantiate the LLM\n",
    "from transformers import pipeline\n",
    "pipe = pipeline(\"text-generation\",\n",
    "                model=model,\n",
    "                tokenizer= tokenizer,\n",
    "                torch_dtype=torch.bfloat16,\n",
    "                device_map=\"auto\",\n",
    "                max_new_tokens = 200,\n",
    "                do_sample=True,\n",
    "                top_k=30,\n",
    "                num_return_sequences=1,\n",
    "                eos_token_id=tokenizer.eos_token_id\n",
    "                )"
   ]
  },
  {
   "cell_type": "code",
   "execution_count": null,
   "metadata": {},
   "outputs": [],
   "source": [
    "sentence=\"Apple is looking at buying U.K. startup for $1 billion.\"\n",
    "outputs = pipe([{\"role\": \"user\", \"content\": \n",
    "                 f\"Given the sentence {sentence} I want to extract important keywords from the list. Your answer should contain only list of important keywords.\"}],\n",
    "                   do_sample=False,\n",
    "                      eos_token_id=[pipe.tokenizer.convert_tokens_to_ids(\"<end_of_turn>\"), pipe.tokenizer.eos_token_id],\n",
    "                      max_new_tokens=200)\n",
    "dat=(outputs[0]['generated_text'])\n",
    "words=[x.lstrip() for x in dat[1]['content'].split(\",\")]"
   ]
  },
  {
   "cell_type": "markdown",
   "metadata": {},
   "source": [
    "## Translate the each words to build the COD prompt"
   ]
  },
  {
   "cell_type": "code",
   "execution_count": null,
   "metadata": {},
   "outputs": [],
   "source": [
    "\n",
    "model_name = \"facebook/nllb-200-3.3B\"\n",
    "cache_directory = \"/data/data_user_alpha/public_models\"\n",
    "\n",
    "# Load model and tokenizer with optimization\n",
    "tran_tokenizer = AutoTokenizer.from_pretrained(model_name, cache_dir=cache_directory)\n",
    "tran_model = AutoModelForSeq2SeqLM.from_pretrained(\n",
    "    model_name,\n",
    "    cache_dir=cache_directory,\n",
    "    torch_dtype=torch.float16,\n",
    "    device_map=\"auto\"\n",
    ")\n"
   ]
  },
  {
   "cell_type": "code",
   "execution_count": 20,
   "metadata": {},
   "outputs": [],
   "source": [
    "from transformers import AutoTokenizer, pipeline\n",
    "aux=['fra_Latn','deu_Latn','por_Latn']\n",
    "text='I want you.'\n",
    "tran={}\n",
    "for lang in aux:\n",
    "    source_lang='eng_Latn'\n",
    "    target_lang = lang\n",
    "    translator = pipeline('translation', model=tran_model, tokenizer=tran_tokenizer, src_lang=source_lang, tgt_lang=target_lang, max_length = 400)\n",
    "    for x in words:\n",
    "        output = translator(x)\n",
    "        if tran.get(x)==None:\n",
    "            tran[x]=[]\n",
    "            tran[x].append(output[0]['translation_text'])\n",
    "        else:\n",
    "            tran[x].append(output[0]['translation_text'])"
   ]
  },
  {
   "cell_type": "markdown",
   "metadata": {},
   "source": [
    "## Develop the COD prompt"
   ]
  },
  {
   "cell_type": "code",
   "execution_count": null,
   "metadata": {},
   "outputs": [],
   "source": [
    "prompt=''\n",
    "for x in words:\n",
    "    print(tran[x])\n",
    "    prompt+=f'{x}'\n",
    "    for y in tran[x]:\n",
    "        prompt+=f' means \"{y}\"'\n",
    "    prompt+='. '\n",
    "prompt+='\\nTranslate the following text from English into Central Kurdish with Arabic script: Using ships to transport goods is by far the most efficient way to move large amounts of people and goods across oceans.'\n",
    "prompt"
   ]
  },
  {
   "cell_type": "markdown",
   "metadata": {},
   "source": [
    "## Translate the whole sentence"
   ]
  },
  {
   "cell_type": "code",
   "execution_count": null,
   "metadata": {},
   "outputs": [],
   "source": [
    "from transformers import AutoModelForSeq2SeqLM\n",
    "model_name = \"bigscience/bloom-7b1\"\n",
    "cache_directory = \"/data/data_user_alpha/public_models\"\n",
    "\n",
    "# Load model and tokenizer with optimization\n",
    "tokenizer = AutoTokenizer.from_pretrained(model_name, cache_dir=cache_directory)\n",
    "model = AutoModelForCausalLM.from_pretrained(\n",
    "    model_name,\n",
    "    cache_dir=cache_directory,\n",
    "    torch_dtype=torch.float16,\n",
    "    device_map=\"auto\"\n",
    ")"
   ]
  },
  {
   "cell_type": "code",
   "execution_count": null,
   "metadata": {},
   "outputs": [],
   "source": [
    "outputs = pipe([{\"role\": \"user\", \"content\": \n",
    "                 f\"{prompt}\"}],\n",
    "                   do_sample=False,\n",
    "                      eos_token_id=[pipe.tokenizer.convert_tokens_to_ids(\"<end_of_turn>\"), pipe.tokenizer.eos_token_id],\n",
    "                      max_new_tokens=200)\n",
    "dat=(outputs[0]['generated_text'])"
   ]
  },
  {
   "cell_type": "code",
   "execution_count": null,
   "metadata": {},
   "outputs": [],
   "source": [
    "dat[1]['content']"
   ]
  }
 ],
 "metadata": {
  "kernelspec": {
   "display_name": "pyt",
   "language": "python",
   "name": "python3"
  },
  "language_info": {
   "codemirror_mode": {
    "name": "ipython",
    "version": 3
   },
   "file_extension": ".py",
   "mimetype": "text/x-python",
   "name": "python",
   "nbconvert_exporter": "python",
   "pygments_lexer": "ipython3",
   "version": "3.11.11"
  }
 },
 "nbformat": 4,
 "nbformat_minor": 2
}
