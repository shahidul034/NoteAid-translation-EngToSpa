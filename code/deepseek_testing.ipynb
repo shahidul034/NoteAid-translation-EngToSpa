{
 "cells": [
  {
   "cell_type": "code",
   "execution_count": 6,
   "metadata": {},
   "outputs": [],
   "source": [
    "from together import Together\n",
    "\n",
    "client = Together(api_key=\"2086ad5b30179aeea4823fe47c0a7cbec3e9795968a2014b0d9e695078059108\")\n",
    "def spa_tran(eng_text):\n",
    "    response = client.chat.completions.create(\n",
    "        model=\"deepseek-ai/DeepSeek-V3\",\n",
    "        messages=[{\"role\": \"user\", \"content\": f\"Translate the following text from English into Spanish: {eng_text}\"}],\n",
    "        temperature=1.3\n",
    "    )\n",
    "    return (response.choices[0].message.content)"
   ]
  },
  {
   "cell_type": "code",
   "execution_count": 7,
   "metadata": {},
   "outputs": [],
   "source": [
    "from utils import compute_bleu_chrf\n",
    "import json\n",
    "path = \"/home/mshahidul/project1/all_tran_data/Sampled_100_MedlinePlus_eng_spanish_pair.json\"\n",
    "with open(path) as f:\n",
    "    data = json.load(f)"
   ]
  },
  {
   "cell_type": "code",
   "execution_count": 8,
   "metadata": {},
   "outputs": [
    {
     "name": "stderr",
     "output_type": "stream",
     "text": [
      "100%|██████████| 100/100 [04:10<00:00,  2.51s/it]"
     ]
    },
    {
     "name": "stdout",
     "output_type": "stream",
     "text": [
      "DeepSeek-V3 --> bleu score: 42.42013437696255\n"
     ]
    },
    {
     "name": "stderr",
     "output_type": "stream",
     "text": [
      "\n"
     ]
    }
   ],
   "source": [
    "import tqdm\n",
    "model_name=\"DeepSeek-V3\"\n",
    "ans_cal=[]\n",
    "for x in tqdm.tqdm(data):\n",
    "    try:\n",
    "        hyp=spa_tran(x['english'])\n",
    "        ref=x['spanish']\n",
    "        score=compute_bleu_chrf(ref, hyp)\n",
    "        ans_cal.append({\n",
    "            \"original_eng\":x['english'],\n",
    "            \"original_spa\":x['spanish'],\n",
    "            \"tran_spa\":hyp,\n",
    "            \"bleu_score\":score['bleu_score'],\n",
    "            \"chrf_score\":score['chrF++']\n",
    "        })\n",
    "    except:\n",
    "        pass\n",
    "avg=0\n",
    "for x in ans_cal:\n",
    "    avg+=x['bleu_score']\n",
    "avg/=len(ans_cal)\n",
    "print(f\"{model_name} --> bleu score: {avg}\")\n",
    "import json\n",
    "with open(f\"/home/mshahidul/project1/results/bleu_chrf_score_{model_name}.json\", 'w') as f:\n",
    "    json.dump(ans_cal, f)  "
   ]
  }
 ],
 "metadata": {
  "kernelspec": {
   "display_name": "unsloth_env",
   "language": "python",
   "name": "python3"
  },
  "language_info": {
   "codemirror_mode": {
    "name": "ipython",
    "version": 3
   },
   "file_extension": ".py",
   "mimetype": "text/x-python",
   "name": "python",
   "nbconvert_exporter": "python",
   "pygments_lexer": "ipython3",
   "version": "3.11.11"
  }
 },
 "nbformat": 4,
 "nbformat_minor": 2
}
